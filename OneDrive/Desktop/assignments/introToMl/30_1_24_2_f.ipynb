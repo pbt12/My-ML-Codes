{
 "cells": [
  {
   "cell_type": "code",
   "execution_count": 1,
   "id": "4c400824-b18a-4b3e-af2f-0f0d97d7ea21",
   "metadata": {},
   "outputs": [
    {
     "name": "stderr",
     "output_type": "stream",
     "text": [
      "C:\\Users\\bhanu teja\\AppData\\Local\\Packages\\PythonSoftwareFoundation.Python.3.11_qbz5n2kfra8p0\\LocalCache\\local-packages\\Python311\\site-packages\\numpy\\_distributor_init.py:30: UserWarning: loaded more than 1 DLL from .libs:\n",
      "C:\\Users\\bhanu teja\\AppData\\Local\\Packages\\PythonSoftwareFoundation.Python.3.11_qbz5n2kfra8p0\\LocalCache\\local-packages\\Python311\\site-packages\\numpy\\.libs\\libopenblas.FB5AE2TYXYH2IJRDKGDGQ3XBKLKTF43H.gfortran-win_amd64.dll\n",
      "C:\\Users\\bhanu teja\\AppData\\Local\\Packages\\PythonSoftwareFoundation.Python.3.11_qbz5n2kfra8p0\\LocalCache\\local-packages\\Python311\\site-packages\\numpy\\.libs\\libopenblas64__v0.3.23-gcc_10_3_0.dll\n",
      "  warnings.warn(\"loaded more than 1 DLL from .libs:\"\n"
     ]
    }
   ],
   "source": [
    "import pandas as pd\n",
    "import numpy as np\n",
    "import matplotlib.pyplot as plt"
   ]
  },
  {
   "cell_type": "code",
   "execution_count": 2,
   "id": "f7bea5f3-785b-4df8-a983-6ea5fb223cfd",
   "metadata": {},
   "outputs": [
    {
     "data": {
      "text/html": [
       "<div>\n",
       "<style scoped>\n",
       "    .dataframe tbody tr th:only-of-type {\n",
       "        vertical-align: middle;\n",
       "    }\n",
       "\n",
       "    .dataframe tbody tr th {\n",
       "        vertical-align: top;\n",
       "    }\n",
       "\n",
       "    .dataframe thead th {\n",
       "        text-align: right;\n",
       "    }\n",
       "</style>\n",
       "<table border=\"1\" class=\"dataframe\">\n",
       "  <thead>\n",
       "    <tr style=\"text-align: right;\">\n",
       "      <th></th>\n",
       "      <th>fLength</th>\n",
       "      <th>fWidth</th>\n",
       "      <th>fSize</th>\n",
       "      <th>fConc</th>\n",
       "      <th>fConc1</th>\n",
       "      <th>fAsym</th>\n",
       "      <th>fM3Long</th>\n",
       "      <th>fM3Trans</th>\n",
       "      <th>fAlpha</th>\n",
       "      <th>fDist</th>\n",
       "    </tr>\n",
       "  </thead>\n",
       "  <tbody>\n",
       "    <tr>\n",
       "      <th>0</th>\n",
       "      <td>28.7967</td>\n",
       "      <td>16.0021</td>\n",
       "      <td>2.6449</td>\n",
       "      <td>0.3918</td>\n",
       "      <td>0.1982</td>\n",
       "      <td>27.7004</td>\n",
       "      <td>22.0110</td>\n",
       "      <td>-8.2027</td>\n",
       "      <td>40.0920</td>\n",
       "      <td>81.8828</td>\n",
       "    </tr>\n",
       "    <tr>\n",
       "      <th>1</th>\n",
       "      <td>31.6036</td>\n",
       "      <td>11.7235</td>\n",
       "      <td>2.5185</td>\n",
       "      <td>0.5303</td>\n",
       "      <td>0.3773</td>\n",
       "      <td>26.2722</td>\n",
       "      <td>23.8238</td>\n",
       "      <td>-9.9574</td>\n",
       "      <td>6.3609</td>\n",
       "      <td>205.2610</td>\n",
       "    </tr>\n",
       "    <tr>\n",
       "      <th>2</th>\n",
       "      <td>162.0520</td>\n",
       "      <td>136.0310</td>\n",
       "      <td>4.0612</td>\n",
       "      <td>0.0374</td>\n",
       "      <td>0.0187</td>\n",
       "      <td>116.7410</td>\n",
       "      <td>-64.8580</td>\n",
       "      <td>-45.2160</td>\n",
       "      <td>76.9600</td>\n",
       "      <td>256.7880</td>\n",
       "    </tr>\n",
       "    <tr>\n",
       "      <th>3</th>\n",
       "      <td>23.8172</td>\n",
       "      <td>9.5728</td>\n",
       "      <td>2.3385</td>\n",
       "      <td>0.6147</td>\n",
       "      <td>0.3922</td>\n",
       "      <td>27.2107</td>\n",
       "      <td>-6.4633</td>\n",
       "      <td>-7.1513</td>\n",
       "      <td>10.4490</td>\n",
       "      <td>116.7370</td>\n",
       "    </tr>\n",
       "    <tr>\n",
       "      <th>4</th>\n",
       "      <td>75.1362</td>\n",
       "      <td>30.9205</td>\n",
       "      <td>3.1611</td>\n",
       "      <td>0.3168</td>\n",
       "      <td>0.1832</td>\n",
       "      <td>-5.5277</td>\n",
       "      <td>28.5525</td>\n",
       "      <td>21.8393</td>\n",
       "      <td>4.6480</td>\n",
       "      <td>356.4620</td>\n",
       "    </tr>\n",
       "  </tbody>\n",
       "</table>\n",
       "</div>"
      ],
      "text/plain": [
       "    fLength    fWidth   fSize   fConc  fConc1     fAsym  fM3Long  fM3Trans  \\\n",
       "0   28.7967   16.0021  2.6449  0.3918  0.1982   27.7004  22.0110   -8.2027   \n",
       "1   31.6036   11.7235  2.5185  0.5303  0.3773   26.2722  23.8238   -9.9574   \n",
       "2  162.0520  136.0310  4.0612  0.0374  0.0187  116.7410 -64.8580  -45.2160   \n",
       "3   23.8172    9.5728  2.3385  0.6147  0.3922   27.2107  -6.4633   -7.1513   \n",
       "4   75.1362   30.9205  3.1611  0.3168  0.1832   -5.5277  28.5525   21.8393   \n",
       "\n",
       "    fAlpha     fDist  \n",
       "0  40.0920   81.8828  \n",
       "1   6.3609  205.2610  \n",
       "2  76.9600  256.7880  \n",
       "3  10.4490  116.7370  \n",
       "4   4.6480  356.4620  "
      ]
     },
     "execution_count": 2,
     "metadata": {},
     "output_type": "execute_result"
    }
   ],
   "source": [
    "telescope_data =  pd.read_csv('telescope_data.csv')\n",
    "telescope_data = telescope_data.drop(\"class\", axis=1)\n",
    "telescope_data.head()"
   ]
  },
  {
   "cell_type": "markdown",
   "id": "6a495c4e-7961-44d3-bec0-965ed1fe4fea",
   "metadata": {},
   "source": [
    "### 1. Mean vector"
   ]
  },
  {
   "cell_type": "code",
   "execution_count": 3,
   "id": "c3aee560-0e2a-4917-842c-154a9e0579b7",
   "metadata": {},
   "outputs": [
    {
     "name": "stdout",
     "output_type": "stream",
     "text": [
      "Mean vector: \n",
      "fLength      57.675030\n",
      "fWidth       24.015214\n",
      "fSize         2.873639\n",
      "fConc         0.363390\n",
      "fConc1        0.207434\n",
      "fAsym        -3.221765\n",
      "fM3Long      13.136590\n",
      "fM3Trans      1.791702\n",
      "fAlpha       31.526518\n",
      "fDist       197.804527\n",
      "dtype: float64\n"
     ]
    }
   ],
   "source": [
    "mean_vector = np.mean(telescope_data, axis=0)\n",
    "print(\"Mean vector: \")\n",
    "print(mean_vector)"
   ]
  },
  {
   "cell_type": "markdown",
   "id": "94da9652-190d-467f-aea6-0b43ac5034cb",
   "metadata": {},
   "source": [
    "### 2. Covariance  using innerproduct"
   ]
  },
  {
   "cell_type": "code",
   "execution_count": 4,
   "id": "34de6d8d-8a59-4883-91b9-a7c4c09528c5",
   "metadata": {},
   "outputs": [
    {
     "data": {
      "text/html": [
       "<div>\n",
       "<style scoped>\n",
       "    .dataframe tbody tr th:only-of-type {\n",
       "        vertical-align: middle;\n",
       "    }\n",
       "\n",
       "    .dataframe tbody tr th {\n",
       "        vertical-align: top;\n",
       "    }\n",
       "\n",
       "    .dataframe thead th {\n",
       "        text-align: right;\n",
       "    }\n",
       "</style>\n",
       "<table border=\"1\" class=\"dataframe\">\n",
       "  <thead>\n",
       "    <tr style=\"text-align: right;\">\n",
       "      <th></th>\n",
       "      <th>0</th>\n",
       "      <th>1</th>\n",
       "      <th>2</th>\n",
       "      <th>3</th>\n",
       "      <th>4</th>\n",
       "      <th>5</th>\n",
       "      <th>6</th>\n",
       "      <th>7</th>\n",
       "      <th>8</th>\n",
       "      <th>9</th>\n",
       "    </tr>\n",
       "  </thead>\n",
       "  <tbody>\n",
       "    <tr>\n",
       "      <th>0</th>\n",
       "      <td>1766.710603</td>\n",
       "      <td>731.278208</td>\n",
       "      <td>13.877761</td>\n",
       "      <td>-4.795976</td>\n",
       "      <td>-2.754310</td>\n",
       "      <td>-338.521963</td>\n",
       "      <td>-317.091670</td>\n",
       "      <td>134.197204</td>\n",
       "      <td>-42.699515</td>\n",
       "      <td>1088.506735</td>\n",
       "    </tr>\n",
       "    <tr>\n",
       "      <th>1</th>\n",
       "      <td>731.278208</td>\n",
       "      <td>511.310810</td>\n",
       "      <td>7.031488</td>\n",
       "      <td>-2.230835</td>\n",
       "      <td>-1.292486</td>\n",
       "      <td>254.802711</td>\n",
       "      <td>-419.194118</td>\n",
       "      <td>76.420843</td>\n",
       "      <td>34.672026</td>\n",
       "      <td>456.444068</td>\n",
       "    </tr>\n",
       "    <tr>\n",
       "      <th>2</th>\n",
       "      <td>13.877761</td>\n",
       "      <td>7.031488</td>\n",
       "      <td>0.226271</td>\n",
       "      <td>-0.067494</td>\n",
       "      <td>-0.038788</td>\n",
       "      <td>0.460739</td>\n",
       "      <td>1.608942</td>\n",
       "      <td>0.648693</td>\n",
       "      <td>-2.846388</td>\n",
       "      <td>17.400684</td>\n",
       "    </tr>\n",
       "    <tr>\n",
       "      <th>3</th>\n",
       "      <td>-4.795976</td>\n",
       "      <td>-2.230835</td>\n",
       "      <td>-0.067494</td>\n",
       "      <td>0.029483</td>\n",
       "      <td>0.017875</td>\n",
       "      <td>0.329190</td>\n",
       "      <td>-0.884361</td>\n",
       "      <td>-0.393915</td>\n",
       "      <td>1.319799</td>\n",
       "      <td>-4.615745</td>\n",
       "    </tr>\n",
       "    <tr>\n",
       "      <th>4</th>\n",
       "      <td>-2.754310</td>\n",
       "      <td>-1.292486</td>\n",
       "      <td>-0.038788</td>\n",
       "      <td>0.017875</td>\n",
       "      <td>0.011461</td>\n",
       "      <td>0.154446</td>\n",
       "      <td>-0.605827</td>\n",
       "      <td>-0.209961</td>\n",
       "      <td>0.710753</td>\n",
       "      <td>-2.523787</td>\n",
       "    </tr>\n",
       "    <tr>\n",
       "      <th>5</th>\n",
       "      <td>-338.521963</td>\n",
       "      <td>254.802711</td>\n",
       "      <td>0.460739</td>\n",
       "      <td>0.329190</td>\n",
       "      <td>0.154446</td>\n",
       "      <td>3899.838668</td>\n",
       "      <td>-263.597250</td>\n",
       "      <td>15.496390</td>\n",
       "      <td>10.170821</td>\n",
       "      <td>-659.973549</td>\n",
       "    </tr>\n",
       "    <tr>\n",
       "      <th>6</th>\n",
       "      <td>-317.091670</td>\n",
       "      <td>-419.194118</td>\n",
       "      <td>1.608942</td>\n",
       "      <td>-0.884361</td>\n",
       "      <td>-0.605827</td>\n",
       "      <td>-263.597250</td>\n",
       "      <td>2851.490243</td>\n",
       "      <td>124.168867</td>\n",
       "      <td>-277.106455</td>\n",
       "      <td>633.900249</td>\n",
       "    </tr>\n",
       "    <tr>\n",
       "      <th>7</th>\n",
       "      <td>134.197204</td>\n",
       "      <td>76.420843</td>\n",
       "      <td>0.648693</td>\n",
       "      <td>-0.393915</td>\n",
       "      <td>-0.209961</td>\n",
       "      <td>15.496390</td>\n",
       "      <td>124.168867</td>\n",
       "      <td>463.939383</td>\n",
       "      <td>-33.519699</td>\n",
       "      <td>165.463602</td>\n",
       "    </tr>\n",
       "    <tr>\n",
       "      <th>8</th>\n",
       "      <td>-42.699515</td>\n",
       "      <td>34.672026</td>\n",
       "      <td>-2.846388</td>\n",
       "      <td>1.319799</td>\n",
       "      <td>0.710753</td>\n",
       "      <td>10.170821</td>\n",
       "      <td>-277.106455</td>\n",
       "      <td>-33.519699</td>\n",
       "      <td>825.699936</td>\n",
       "      <td>-479.369739</td>\n",
       "    </tr>\n",
       "    <tr>\n",
       "      <th>9</th>\n",
       "      <td>1088.506735</td>\n",
       "      <td>456.444068</td>\n",
       "      <td>17.400684</td>\n",
       "      <td>-4.615745</td>\n",
       "      <td>-2.523787</td>\n",
       "      <td>-659.973549</td>\n",
       "      <td>633.900249</td>\n",
       "      <td>165.463602</td>\n",
       "      <td>-479.369739</td>\n",
       "      <td>6361.467591</td>\n",
       "    </tr>\n",
       "  </tbody>\n",
       "</table>\n",
       "</div>"
      ],
      "text/plain": [
       "             0           1          2         3         4            5  \\\n",
       "0  1766.710603  731.278208  13.877761 -4.795976 -2.754310  -338.521963   \n",
       "1   731.278208  511.310810   7.031488 -2.230835 -1.292486   254.802711   \n",
       "2    13.877761    7.031488   0.226271 -0.067494 -0.038788     0.460739   \n",
       "3    -4.795976   -2.230835  -0.067494  0.029483  0.017875     0.329190   \n",
       "4    -2.754310   -1.292486  -0.038788  0.017875  0.011461     0.154446   \n",
       "5  -338.521963  254.802711   0.460739  0.329190  0.154446  3899.838668   \n",
       "6  -317.091670 -419.194118   1.608942 -0.884361 -0.605827  -263.597250   \n",
       "7   134.197204   76.420843   0.648693 -0.393915 -0.209961    15.496390   \n",
       "8   -42.699515   34.672026  -2.846388  1.319799  0.710753    10.170821   \n",
       "9  1088.506735  456.444068  17.400684 -4.615745 -2.523787  -659.973549   \n",
       "\n",
       "             6           7           8            9  \n",
       "0  -317.091670  134.197204  -42.699515  1088.506735  \n",
       "1  -419.194118   76.420843   34.672026   456.444068  \n",
       "2     1.608942    0.648693   -2.846388    17.400684  \n",
       "3    -0.884361   -0.393915    1.319799    -4.615745  \n",
       "4    -0.605827   -0.209961    0.710753    -2.523787  \n",
       "5  -263.597250   15.496390   10.170821  -659.973549  \n",
       "6  2851.490243  124.168867 -277.106455   633.900249  \n",
       "7   124.168867  463.939383  -33.519699   165.463602  \n",
       "8  -277.106455  -33.519699  825.699936  -479.369739  \n",
       "9   633.900249  165.463602 -479.369739  6361.467591  "
      ]
     },
     "execution_count": 4,
     "metadata": {},
     "output_type": "execute_result"
    }
   ],
   "source": [
    "centered_data = telescope_data - mean_vector\n",
    "covariance_matrix = pd.DataFrame(np.cov(centered_data.T))\n",
    "\n",
    "covariance_matrix"
   ]
  },
  {
   "cell_type": "markdown",
   "id": "8efaea02-1d2c-46b0-975d-1ee96aec10e0",
   "metadata": {},
   "source": [
    "### 3. Covariance using Outer Product"
   ]
  },
  {
   "cell_type": "code",
   "execution_count": 5,
   "id": "d46c3f53-295d-45d8-92dc-78b055997434",
   "metadata": {},
   "outputs": [
    {
     "data": {
      "text/html": [
       "<div>\n",
       "<style scoped>\n",
       "    .dataframe tbody tr th:only-of-type {\n",
       "        vertical-align: middle;\n",
       "    }\n",
       "\n",
       "    .dataframe tbody tr th {\n",
       "        vertical-align: top;\n",
       "    }\n",
       "\n",
       "    .dataframe thead th {\n",
       "        text-align: right;\n",
       "    }\n",
       "</style>\n",
       "<table border=\"1\" class=\"dataframe\">\n",
       "  <thead>\n",
       "    <tr style=\"text-align: right;\">\n",
       "      <th></th>\n",
       "      <th>0</th>\n",
       "      <th>1</th>\n",
       "      <th>2</th>\n",
       "      <th>3</th>\n",
       "      <th>4</th>\n",
       "      <th>5</th>\n",
       "      <th>6</th>\n",
       "      <th>7</th>\n",
       "      <th>8</th>\n",
       "      <th>9</th>\n",
       "      <th>...</th>\n",
       "      <th>2000</th>\n",
       "      <th>2001</th>\n",
       "      <th>2002</th>\n",
       "      <th>2003</th>\n",
       "      <th>2004</th>\n",
       "      <th>2005</th>\n",
       "      <th>2006</th>\n",
       "      <th>2007</th>\n",
       "      <th>2008</th>\n",
       "      <th>2009</th>\n",
       "    </tr>\n",
       "  </thead>\n",
       "  <tbody>\n",
       "    <tr>\n",
       "      <th>0</th>\n",
       "      <td>4.169790</td>\n",
       "      <td>3.764497</td>\n",
       "      <td>-15.071163</td>\n",
       "      <td>4.888788</td>\n",
       "      <td>-2.521247</td>\n",
       "      <td>0.873718</td>\n",
       "      <td>1.361358</td>\n",
       "      <td>4.459584</td>\n",
       "      <td>-5.567406</td>\n",
       "      <td>1.575765</td>\n",
       "      <td>...</td>\n",
       "      <td>1.490429</td>\n",
       "      <td>6.590833</td>\n",
       "      <td>-9.399243</td>\n",
       "      <td>-5.764298</td>\n",
       "      <td>-1.253243</td>\n",
       "      <td>-17.987803</td>\n",
       "      <td>4.956146</td>\n",
       "      <td>22.897112</td>\n",
       "      <td>-16.440964</td>\n",
       "      <td>-12.201018</td>\n",
       "    </tr>\n",
       "    <tr>\n",
       "      <th>1</th>\n",
       "      <td>1.157027</td>\n",
       "      <td>1.044567</td>\n",
       "      <td>-4.181923</td>\n",
       "      <td>1.356533</td>\n",
       "      <td>-0.699592</td>\n",
       "      <td>0.242438</td>\n",
       "      <td>0.377747</td>\n",
       "      <td>1.237438</td>\n",
       "      <td>-1.544835</td>\n",
       "      <td>0.437241</td>\n",
       "      <td>...</td>\n",
       "      <td>0.413562</td>\n",
       "      <td>1.828814</td>\n",
       "      <td>-2.608087</td>\n",
       "      <td>-1.599469</td>\n",
       "      <td>-0.347748</td>\n",
       "      <td>-4.991228</td>\n",
       "      <td>1.375224</td>\n",
       "      <td>6.353455</td>\n",
       "      <td>-4.562013</td>\n",
       "      <td>-3.385520</td>\n",
       "    </tr>\n",
       "    <tr>\n",
       "      <th>2</th>\n",
       "      <td>0.033028</td>\n",
       "      <td>0.029818</td>\n",
       "      <td>-0.119375</td>\n",
       "      <td>0.038723</td>\n",
       "      <td>-0.019970</td>\n",
       "      <td>0.006921</td>\n",
       "      <td>0.010783</td>\n",
       "      <td>0.035323</td>\n",
       "      <td>-0.044098</td>\n",
       "      <td>0.012481</td>\n",
       "      <td>...</td>\n",
       "      <td>0.011805</td>\n",
       "      <td>0.052205</td>\n",
       "      <td>-0.074449</td>\n",
       "      <td>-0.045658</td>\n",
       "      <td>-0.009927</td>\n",
       "      <td>-0.142477</td>\n",
       "      <td>0.039257</td>\n",
       "      <td>0.181363</td>\n",
       "      <td>-0.130225</td>\n",
       "      <td>-0.096642</td>\n",
       "    </tr>\n",
       "    <tr>\n",
       "      <th>3</th>\n",
       "      <td>-0.004102</td>\n",
       "      <td>-0.003703</td>\n",
       "      <td>0.014827</td>\n",
       "      <td>-0.004809</td>\n",
       "      <td>0.002480</td>\n",
       "      <td>-0.000860</td>\n",
       "      <td>-0.001339</td>\n",
       "      <td>-0.004387</td>\n",
       "      <td>0.005477</td>\n",
       "      <td>-0.001550</td>\n",
       "      <td>...</td>\n",
       "      <td>-0.001466</td>\n",
       "      <td>-0.006484</td>\n",
       "      <td>0.009247</td>\n",
       "      <td>0.005671</td>\n",
       "      <td>0.001233</td>\n",
       "      <td>0.017696</td>\n",
       "      <td>-0.004876</td>\n",
       "      <td>-0.022526</td>\n",
       "      <td>0.016174</td>\n",
       "      <td>0.012003</td>\n",
       "    </tr>\n",
       "    <tr>\n",
       "      <th>4</th>\n",
       "      <td>0.001333</td>\n",
       "      <td>0.001204</td>\n",
       "      <td>-0.004819</td>\n",
       "      <td>0.001563</td>\n",
       "      <td>-0.000806</td>\n",
       "      <td>0.000279</td>\n",
       "      <td>0.000435</td>\n",
       "      <td>0.001426</td>\n",
       "      <td>-0.001780</td>\n",
       "      <td>0.000504</td>\n",
       "      <td>...</td>\n",
       "      <td>0.000477</td>\n",
       "      <td>0.002108</td>\n",
       "      <td>-0.003006</td>\n",
       "      <td>-0.001843</td>\n",
       "      <td>-0.000401</td>\n",
       "      <td>-0.005752</td>\n",
       "      <td>0.001585</td>\n",
       "      <td>0.007322</td>\n",
       "      <td>-0.005257</td>\n",
       "      <td>-0.003901</td>\n",
       "    </tr>\n",
       "    <tr>\n",
       "      <th>...</th>\n",
       "      <td>...</td>\n",
       "      <td>...</td>\n",
       "      <td>...</td>\n",
       "      <td>...</td>\n",
       "      <td>...</td>\n",
       "      <td>...</td>\n",
       "      <td>...</td>\n",
       "      <td>...</td>\n",
       "      <td>...</td>\n",
       "      <td>...</td>\n",
       "      <td>...</td>\n",
       "      <td>...</td>\n",
       "      <td>...</td>\n",
       "      <td>...</td>\n",
       "      <td>...</td>\n",
       "      <td>...</td>\n",
       "      <td>...</td>\n",
       "      <td>...</td>\n",
       "      <td>...</td>\n",
       "      <td>...</td>\n",
       "      <td>...</td>\n",
       "    </tr>\n",
       "    <tr>\n",
       "      <th>2005</th>\n",
       "      <td>10.451896</td>\n",
       "      <td>9.435998</td>\n",
       "      <td>-37.777018</td>\n",
       "      <td>12.254120</td>\n",
       "      <td>-6.319698</td>\n",
       "      <td>2.190041</td>\n",
       "      <td>3.412347</td>\n",
       "      <td>11.178287</td>\n",
       "      <td>-13.955126</td>\n",
       "      <td>3.949775</td>\n",
       "      <td>...</td>\n",
       "      <td>3.735874</td>\n",
       "      <td>16.520425</td>\n",
       "      <td>-23.559918</td>\n",
       "      <td>-14.448653</td>\n",
       "      <td>-3.141350</td>\n",
       "      <td>-45.087798</td>\n",
       "      <td>12.422958</td>\n",
       "      <td>57.393356</td>\n",
       "      <td>-41.210528</td>\n",
       "      <td>-30.582782</td>\n",
       "    </tr>\n",
       "    <tr>\n",
       "      <th>2006</th>\n",
       "      <td>22.494283</td>\n",
       "      <td>20.307896</td>\n",
       "      <td>-81.302661</td>\n",
       "      <td>26.372980</td>\n",
       "      <td>-13.601080</td>\n",
       "      <td>4.713347</td>\n",
       "      <td>7.343959</td>\n",
       "      <td>24.057601</td>\n",
       "      <td>-30.033839</td>\n",
       "      <td>8.500597</td>\n",
       "      <td>...</td>\n",
       "      <td>8.040245</td>\n",
       "      <td>35.554805</td>\n",
       "      <td>-50.705009</td>\n",
       "      <td>-31.095995</td>\n",
       "      <td>-6.760727</td>\n",
       "      <td>-97.036719</td>\n",
       "      <td>26.736350</td>\n",
       "      <td>123.520404</td>\n",
       "      <td>-88.692166</td>\n",
       "      <td>-65.819424</td>\n",
       "    </tr>\n",
       "    <tr>\n",
       "      <th>2007</th>\n",
       "      <td>10.285090</td>\n",
       "      <td>9.285405</td>\n",
       "      <td>-37.174120</td>\n",
       "      <td>12.058551</td>\n",
       "      <td>-6.218839</td>\n",
       "      <td>2.155090</td>\n",
       "      <td>3.357888</td>\n",
       "      <td>10.999888</td>\n",
       "      <td>-13.732411</td>\n",
       "      <td>3.886739</td>\n",
       "      <td>...</td>\n",
       "      <td>3.676252</td>\n",
       "      <td>16.256769</td>\n",
       "      <td>-23.183916</td>\n",
       "      <td>-14.218062</td>\n",
       "      <td>-3.091216</td>\n",
       "      <td>-44.368224</td>\n",
       "      <td>12.224695</td>\n",
       "      <td>56.477393</td>\n",
       "      <td>-40.552833</td>\n",
       "      <td>-30.094699</td>\n",
       "    </tr>\n",
       "    <tr>\n",
       "      <th>2008</th>\n",
       "      <td>-8.196635</td>\n",
       "      <td>-7.399943</td>\n",
       "      <td>29.625671</td>\n",
       "      <td>-9.609983</td>\n",
       "      <td>4.956063</td>\n",
       "      <td>-1.717485</td>\n",
       "      <td>-2.676047</td>\n",
       "      <td>-8.766289</td>\n",
       "      <td>10.943955</td>\n",
       "      <td>-3.097511</td>\n",
       "      <td>...</td>\n",
       "      <td>-2.929765</td>\n",
       "      <td>-12.955726</td>\n",
       "      <td>18.476270</td>\n",
       "      <td>11.330991</td>\n",
       "      <td>2.463524</td>\n",
       "      <td>35.358965</td>\n",
       "      <td>-9.742391</td>\n",
       "      <td>-45.009288</td>\n",
       "      <td>32.318314</td>\n",
       "      <td>23.983773</td>\n",
       "    </tr>\n",
       "    <tr>\n",
       "      <th>2009</th>\n",
       "      <td>-12.201018</td>\n",
       "      <td>-11.015111</td>\n",
       "      <td>44.098994</td>\n",
       "      <td>-14.304844</td>\n",
       "      <td>7.377298</td>\n",
       "      <td>-2.556544</td>\n",
       "      <td>-3.983402</td>\n",
       "      <td>-13.048971</td>\n",
       "      <td>16.290514</td>\n",
       "      <td>-4.610769</td>\n",
       "      <td>...</td>\n",
       "      <td>-4.361072</td>\n",
       "      <td>-19.285115</td>\n",
       "      <td>27.502666</td>\n",
       "      <td>16.866632</td>\n",
       "      <td>3.667054</td>\n",
       "      <td>52.633231</td>\n",
       "      <td>-14.501938</td>\n",
       "      <td>-66.998122</td>\n",
       "      <td>48.107101</td>\n",
       "      <td>35.700804</td>\n",
       "    </tr>\n",
       "  </tbody>\n",
       "</table>\n",
       "<p>2010 rows × 2010 columns</p>\n",
       "</div>"
      ],
      "text/plain": [
       "           0          1          2          3          4         5     \\\n",
       "0      4.169790   3.764497 -15.071163   4.888788  -2.521247  0.873718   \n",
       "1      1.157027   1.044567  -4.181923   1.356533  -0.699592  0.242438   \n",
       "2      0.033028   0.029818  -0.119375   0.038723  -0.019970  0.006921   \n",
       "3     -0.004102  -0.003703   0.014827  -0.004809   0.002480 -0.000860   \n",
       "4      0.001333   0.001204  -0.004819   0.001563  -0.000806  0.000279   \n",
       "...         ...        ...        ...        ...        ...       ...   \n",
       "2005  10.451896   9.435998 -37.777018  12.254120  -6.319698  2.190041   \n",
       "2006  22.494283  20.307896 -81.302661  26.372980 -13.601080  4.713347   \n",
       "2007  10.285090   9.285405 -37.174120  12.058551  -6.218839  2.155090   \n",
       "2008  -8.196635  -7.399943  29.625671  -9.609983   4.956063 -1.717485   \n",
       "2009 -12.201018 -11.015111  44.098994 -14.304844   7.377298 -2.556544   \n",
       "\n",
       "          6          7          8         9     ...      2000       2001  \\\n",
       "0     1.361358   4.459584  -5.567406  1.575765  ...  1.490429   6.590833   \n",
       "1     0.377747   1.237438  -1.544835  0.437241  ...  0.413562   1.828814   \n",
       "2     0.010783   0.035323  -0.044098  0.012481  ...  0.011805   0.052205   \n",
       "3    -0.001339  -0.004387   0.005477 -0.001550  ... -0.001466  -0.006484   \n",
       "4     0.000435   0.001426  -0.001780  0.000504  ...  0.000477   0.002108   \n",
       "...        ...        ...        ...       ...  ...       ...        ...   \n",
       "2005  3.412347  11.178287 -13.955126  3.949775  ...  3.735874  16.520425   \n",
       "2006  7.343959  24.057601 -30.033839  8.500597  ...  8.040245  35.554805   \n",
       "2007  3.357888  10.999888 -13.732411  3.886739  ...  3.676252  16.256769   \n",
       "2008 -2.676047  -8.766289  10.943955 -3.097511  ... -2.929765 -12.955726   \n",
       "2009 -3.983402 -13.048971  16.290514 -4.610769  ... -4.361072 -19.285115   \n",
       "\n",
       "           2002       2003      2004       2005       2006        2007  \\\n",
       "0     -9.399243  -5.764298 -1.253243 -17.987803   4.956146   22.897112   \n",
       "1     -2.608087  -1.599469 -0.347748  -4.991228   1.375224    6.353455   \n",
       "2     -0.074449  -0.045658 -0.009927  -0.142477   0.039257    0.181363   \n",
       "3      0.009247   0.005671  0.001233   0.017696  -0.004876   -0.022526   \n",
       "4     -0.003006  -0.001843 -0.000401  -0.005752   0.001585    0.007322   \n",
       "...         ...        ...       ...        ...        ...         ...   \n",
       "2005 -23.559918 -14.448653 -3.141350 -45.087798  12.422958   57.393356   \n",
       "2006 -50.705009 -31.095995 -6.760727 -97.036719  26.736350  123.520404   \n",
       "2007 -23.183916 -14.218062 -3.091216 -44.368224  12.224695   56.477393   \n",
       "2008  18.476270  11.330991  2.463524  35.358965  -9.742391  -45.009288   \n",
       "2009  27.502666  16.866632  3.667054  52.633231 -14.501938  -66.998122   \n",
       "\n",
       "           2008       2009  \n",
       "0    -16.440964 -12.201018  \n",
       "1     -4.562013  -3.385520  \n",
       "2     -0.130225  -0.096642  \n",
       "3      0.016174   0.012003  \n",
       "4     -0.005257  -0.003901  \n",
       "...         ...        ...  \n",
       "2005 -41.210528 -30.582782  \n",
       "2006 -88.692166 -65.819424  \n",
       "2007 -40.552833 -30.094699  \n",
       "2008  32.318314  23.983773  \n",
       "2009  48.107101  35.700804  \n",
       "\n",
       "[2010 rows x 2010 columns]"
      ]
     },
     "execution_count": 5,
     "metadata": {},
     "output_type": "execute_result"
    }
   ],
   "source": [
    "centered_data = telescope_data - mean_vector\n",
    "covariance_matrix = pd.DataFrame(np.outer(centered_data, centered_data.T) / (telescope_data.shape[0] - 1))\n",
    "covariance_matrix"
   ]
  },
  {
   "cell_type": "markdown",
   "id": "7bea6785-80b4-46ad-8cc8-c787651f13fd",
   "metadata": {},
   "source": [
    "### 4. EigenValues and EigenVectors of cov-matrix of attribute 7 and 8"
   ]
  },
  {
   "cell_type": "code",
   "execution_count": 6,
   "id": "de2fd06a-a7d8-416d-a488-f4b48781ddbe",
   "metadata": {},
   "outputs": [],
   "source": [
    "data = telescope_data[[\"fM3Long\", \"fM3Trans\"]]\n",
    "cov_matrix = np.cov(data, rowvar = False)\n",
    "eig_values, eig_vectors = np.linalg.eig(cov_matrix)"
   ]
  },
  {
   "cell_type": "code",
   "execution_count": 7,
   "id": "c7a98879-0151-4d05-bbe1-75f2a00887a9",
   "metadata": {},
   "outputs": [
    {
     "data": {
      "text/plain": [
       "array([2857.93049538,  457.49913084])"
      ]
     },
     "execution_count": 7,
     "metadata": {},
     "output_type": "execute_result"
    }
   ],
   "source": [
    "eig_values"
   ]
  },
  {
   "cell_type": "code",
   "execution_count": 8,
   "id": "4a0d8250-99fc-425f-b44c-f3d37cb5c253",
   "metadata": {},
   "outputs": [
    {
     "data": {
      "text/plain": [
       "array([[ 0.99865762, -0.05179726],\n",
       "       [ 0.05179726,  0.99865762]])"
      ]
     },
     "execution_count": 8,
     "metadata": {},
     "output_type": "execute_result"
    }
   ],
   "source": [
    "eig_vectors"
   ]
  },
  {
   "cell_type": "markdown",
   "id": "89341064-2a44-46a5-99f6-7807e4b0b149",
   "metadata": {},
   "source": [
    "### 5. Cov - Matrix between attributes 3, 7 and 8"
   ]
  },
  {
   "cell_type": "code",
   "execution_count": 9,
   "id": "cb7c78f6-2100-4eef-aca3-f9b2e9417ef4",
   "metadata": {},
   "outputs": [
    {
     "data": {
      "text/plain": [
       "array([[2.26271192e-01, 1.60894156e+00, 6.48693246e-01],\n",
       "       [1.60894156e+00, 2.85149024e+03, 1.24168867e+02],\n",
       "       [6.48693246e-01, 1.24168867e+02, 4.63939383e+02]])"
      ]
     },
     "execution_count": 9,
     "metadata": {},
     "output_type": "execute_result"
    }
   ],
   "source": [
    "data = telescope_data[[\"fSize\", \"fM3Long\", \"fM3Trans\"]]\n",
    "cov_matrix = np.cov(data, rowvar = False)\n",
    "cov_matrix"
   ]
  },
  {
   "cell_type": "markdown",
   "id": "6f696b27-df8b-4139-8e89-60186b52b0ef",
   "metadata": {},
   "source": [
    "### 6. Cov-Matrix of categorical attribute (attribute 2 is categorised)"
   ]
  },
  {
   "cell_type": "code",
   "execution_count": 10,
   "id": "1c002c27-cd93-4e19-8a24-2e8af20526c9",
   "metadata": {},
   "outputs": [
    {
     "name": "stdout",
     "output_type": "stream",
     "text": [
      "Covariance Matrix of the new categorical attribute:\n",
      "1.2611940298507465\n"
     ]
    }
   ],
   "source": [
    "data = telescope_data[\"fWidth\"]\n",
    "\n",
    "first_quartile = np.percentile(data, 25)\n",
    "median = np.percentile(data, 50)\n",
    "third_quartile = np.percentile(data, 75)\n",
    "\n",
    "categories = pd.cut(data, bins=[-np.inf, first_quartile, median, third_quartile, np.inf], labels=['Q1', 'Q2', 'Q3', 'Q4'])\n",
    "\n",
    "one_hot_encoded_categories = []\n",
    "for category in categories:\n",
    "    if category == 'Q1':\n",
    "        one_hot_encoded_categories.append(1)\n",
    "    elif category == 'Q2':\n",
    "        one_hot_encoded_categories.append(2)\n",
    "    elif category == 'Q3':\n",
    "        one_hot_encoded_categories.append(3)\n",
    "    else:\n",
    "        one_hot_encoded_categories.append(4)\n",
    "\n",
    "covariance_matrix = np.cov(one_hot_encoded_categories)\n",
    "\n",
    "print(\"Covariance Matrix of the new categorical attribute:\")\n",
    "print(covariance_matrix)"
   ]
  },
  {
   "cell_type": "markdown",
   "id": "c40d81a9-7d7f-4a0e-9556-dc04fbcfbdf8",
   "metadata": {},
   "source": [
    "### 7. Emperical CDFs of attributes 4,6 and 8"
   ]
  },
  {
   "cell_type": "code",
   "execution_count": 11,
   "id": "4f6d788a-2f0e-4305-ac1a-b6d966e7bf69",
   "metadata": {},
   "outputs": [
    {
     "data": {
      "text/plain": [
       "<matplotlib.legend.Legend at 0x213e31ff7d0>"
      ]
     },
     "execution_count": 11,
     "metadata": {},
     "output_type": "execute_result"
    },
    {
     "data": {
      "image/png": "[encoded data removed]",
      "text/plain": [
       "<Figure size 640x480 with 1 Axes>"
      ]
     },
     "metadata": {},
     "output_type": "display_data"
    }
   ],
   "source": [
    "data = [telescope_data[\"fConc\"], telescope_data[\"fAsym\"], telescope_data[\"fM3Trans\"]]\n",
    "\n",
    "# Create labels for attributes\n",
    "labels = [\"fConc\", \"fAsym\", \"fM3Trans\"]\n",
    "\n",
    "# Plot empirical CDFs\n",
    "for i, attribute in enumerate(data):\n",
    "    sorted_data = np.sort(attribute)\n",
    "    y = np.arange(len(sorted_data)) / float(len(sorted_data) - 1)\n",
    "    plt.plot(sorted_data, y, label=labels[i])\n",
    "\n",
    "# Add labels and title\n",
    "plt.xlabel(\"Value\")\n",
    "plt.ylabel(\"Empirical CDF\")\n",
    "plt.title(\"Empirical CDFs of fConc, fAsym and fM3Trans\")\n",
    "plt.legend()"
   ]
  },
  {
   "cell_type": "markdown",
   "id": "291cb65f-c843-4169-b405-812b4fdfa5ac",
   "metadata": {},
   "source": [
    "### 8. Covariance matrix of attribute 8"
   ]
  },
  {
   "cell_type": "code",
   "execution_count": 12,
   "id": "917e8193-f138-4241-88e6-420b44a92f9d",
   "metadata": {},
   "outputs": [
    {
     "data": {
      "text/plain": [
       "array(6361.46759083)"
      ]
     },
     "execution_count": 12,
     "metadata": {},
     "output_type": "execute_result"
    }
   ],
   "source": [
    "data = telescope_data[\"fDist\"]\n",
    "covariance_matrix = np.cov(data, rowvar=False)\n",
    "covariance_matrix"
   ]
  },
  {
   "cell_type": "markdown",
   "id": "cdb560d8-3442-4460-9791-d9ea4a90dec9",
   "metadata": {},
   "source": [
    "### 9. Cosine similarity between \"fLength\" and \"fWidth\" and their scatter plot"
   ]
  },
  {
   "cell_type": "code",
   "execution_count": 13,
   "id": "fae18a3a-7269-486f-a30f-664e1b52aa0c",
   "metadata": {},
   "outputs": [
    {
     "data": {
      "text/plain": [
       "0.7694093096665072"
      ]
     },
     "execution_count": 13,
     "metadata": {},
     "output_type": "execute_result"
    }
   ],
   "source": [
    "data1 = centered_data[\"fLength\"]\n",
    "data2 = centered_data[\"fWidth\"]\n",
    "\n",
    "cosine_similarity = np.dot(data1, data2) / (\n",
    "    np.linalg.norm(data1) * np.linalg.norm(data2)\n",
    ")\n",
    "\n",
    "cosine_similarity"
   ]
  },
  {
   "cell_type": "code",
   "execution_count": 14,
   "id": "4f33a186-8ef9-4f21-9e1a-03a3f1bdf373",
   "metadata": {},
   "outputs": [
    {
     "data": {
      "image/png": "[encoded data removed]",
      "text/plain": [
       "<Figure size 640x480 with 1 Axes>"
      ]
     },
     "metadata": {},
     "output_type": "display_data"
    }
   ],
   "source": [
    "plt.scatter(data1, data2)\n",
    "plt.xlabel(\"fLength\")\n",
    "plt.ylabel(\"fWidth\")\n",
    "plt.title(\"Scatter Plot of fLength and fWidth\")\n",
    "\n",
    "plt.show()"
   ]
  },
  {
   "cell_type": "markdown",
   "id": "bb7b6810-1251-4dc2-b799-559317186b2b",
   "metadata": {},
   "source": [
    "### 10. Probability Distribution Function of Attribute 1 (standardized)"
   ]
  },
  {
   "cell_type": "code",
   "execution_count": 15,
   "id": "c89f712d-c665-47fa-b20e-79eb48e5df55",
   "metadata": {},
   "outputs": [
    {
     "data": {
      "image/png": "[encoded data removed]",
      "text/plain": [
       "<Figure size 640x480 with 1 Axes>"
      ]
     },
     "metadata": {},
     "output_type": "display_data"
    }
   ],
   "source": [
    "data = telescope_data['fLength']\n",
    "\n",
    "mean = np.mean(data)\n",
    "std = np.std(data)\n",
    "\n",
    "x = np.linspace(mean - 3*std, mean + 3*std, 100)\n",
    "\n",
    "pdf = 1 / (std * np.sqrt(2 * np.pi)) * np.exp(-(x - mean)**2 / (2 * std**2))\n",
    "\n",
    "plt.plot(x, pdf)\n",
    "plt.xlabel(\"fLength\")\n",
    "plt.ylabel(\"Probability Density\")\n",
    "plt.title(\"Probability Density Function of fLength (assuming normal distribution)\")\n",
    "\n",
    "plt.grid(True)\n",
    "plt.show()"
   ]
  },
  {
   "cell_type": "markdown",
   "id": "cd60d73c-3cac-42c6-bfd0-0c0754d5c154",
   "metadata": {},
   "source": [
    "### 11. Attributes with Largest and Smallest variances"
   ]
  },
  {
   "cell_type": "code",
   "execution_count": 16,
   "id": "0ae69af4-0cb4-4db5-b694-ab7fba915bef",
   "metadata": {},
   "outputs": [
    {
     "name": "stdout",
     "output_type": "stream",
     "text": [
      "Attribute 10 has the largest variance: 6329.82\n",
      "Attribute 5 has the smallest variance: 0.01\n"
     ]
    }
   ],
   "source": [
    "variances = np.var(telescope_data, axis=0)\n",
    "\n",
    "max_variance_index = np.argmax(variances)\n",
    "min_variance_index = np.argmin(variances)\n",
    "\n",
    "print(f\"Attribute {max_variance_index + 1} has the largest variance: {variances[max_variance_index]:.2f}\")\n",
    "print(f\"Attribute {min_variance_index + 1} has the smallest variance: {variances[min_variance_index]:.2f}\")"
   ]
  },
  {
   "cell_type": "markdown",
   "id": "5fc796e9-5831-4b31-8a10-d8c8dd0c3578",
   "metadata": {},
   "source": [
    "### 12. Pair of attributes with largest and smallest covariances"
   ]
  },
  {
   "cell_type": "code",
   "execution_count": 23,
   "id": "d2b7636e-e594-46f2-8b62-53702d60598b",
   "metadata": {},
   "outputs": [
    {
     "name": "stdout",
     "output_type": "stream",
     "text": [
      "Pair with largest covariance:\n",
      "- Attributes: fLength and fDist\n",
      "- Value: 1088.51\n",
      "Pair with smallest covariance:\n",
      "- Attributes: fAsym and fDist\n",
      "- Value: -659.97\n"
     ]
    }
   ],
   "source": [
    "largest_value = float(\"-inf\")\n",
    "largest_pair = None\n",
    "smallest_value = float(\"inf\")\n",
    "smallest_pair = None\n",
    "\n",
    "covariance_matrix = telescope_data.cov()\n",
    "\n",
    "# Loop through upper triangular part (excluding diagonal)\n",
    "for i in range(covariance_matrix.shape[0]):\n",
    "    for j in range(i + 1, covariance_matrix.shape[1]):\n",
    "        current_value = covariance_matrix.iloc[i, j]\n",
    "        if current_value > largest_value:\n",
    "            largest_value = current_value\n",
    "            largest_pair = (i, j)\n",
    "        elif current_value < smallest_value:\n",
    "            smallest_value = current_value\n",
    "            smallest_pair = (i, j)\n",
    "\n",
    "\n",
    "print(f\"Pair with largest covariance:\")\n",
    "print(f\"- Attributes: {covariance_matrix.columns[largest_pair[0]]} and {covariance_matrix.columns[largest_pair[1]]}\")\n",
    "print(f\"- Value: {largest_value:.2f}\")\n",
    "\n",
    "\n",
    "print(f\"Pair with smallest covariance:\")\n",
    "print(f\"- Attributes: {covariance_matrix.columns[smallest_pair[0]]} and {covariance_matrix.columns[smallest_pair[1]]}\")\n",
    "print(f\"- Value: {smallest_value:.2f}\")"
   ]
  },
  {
   "cell_type": "markdown",
   "id": "36e26c5e-6464-4563-ba51-c0462728b221",
   "metadata": {},
   "source": [
    "### 13. Plotting attribute 2 vs attribute 5, and marking each point as a circle"
   ]
  },
  {
   "cell_type": "code",
   "execution_count": 24,
   "id": "669ee4a9-271c-415e-be49-257e7b30231f",
   "metadata": {},
   "outputs": [
    {
     "data": {
      "image/png": "[encoded data removed]",
      "text/plain": [
       "<Figure size 800x600 with 1 Axes>"
      ]
     },
     "metadata": {},
     "output_type": "display_data"
    }
   ],
   "source": [
    "data2 = telescope_data[\"fWidth\"]\n",
    "data5 = telescope_data[\"fConc1\"]\n",
    "\n",
    "# Create scatter plot\n",
    "plt.figure(figsize=(8, 6))\n",
    "plt.scatter(data2, data5, marker='o', color='b', facecolors = 'none', alpha=1)\n",
    "plt.xlabel(\"Attribute 2 (fWidth)\")\n",
    "plt.ylabel(\"Attribute 5 (fConc1)\")\n",
    "plt.title(\"Scatter Plot of Attribute 2 vs Attribute 5)\")\n",
    "plt.show()"
   ]
  },
  {
   "cell_type": "code",
   "execution_count": 25,
   "id": "6896facb-35b0-464c-b22b-b37fc122f906",
   "metadata": {},
   "outputs": [],
   "source": []
  },
  {
   "cell_type": "code",
   "execution_count": null,
   "id": "4e576d44-ae36-471c-95f6-df6ef020b7ff",
   "metadata": {},
   "outputs": [],
   "source": []
  }
 ],
 "metadata": {
  "kernelspec": {
   "display_name": "Python 3 (ipykernel)",
   "language": "python",
   "name": "python3"
  },
  "language_info": {
   "codemirror_mode": {
    "name": "ipython",
    "version": 3
   },
   "file_extension": ".py",
   "mimetype": "text/x-python",
   "name": "python",
   "nbconvert_exporter": "python",
   "pygments_lexer": "ipython3",
   "version": "3.11.7"
  }
 },
 "nbformat": 4,
 "nbformat_minor": 5
}
