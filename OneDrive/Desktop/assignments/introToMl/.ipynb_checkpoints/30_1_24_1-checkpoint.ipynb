{
 "cells": [
  {
   "cell_type": "code",
   "execution_count": 3,
   "id": "c7d9306e-9a5e-470d-9476-c74313ab68a4",
   "metadata": {},
   "outputs": [],
   "source": [
    "import warnings\n",
    "warnings.filterwarnings('ignore')\n",
    "\n",
    "import pandas as pd\n",
    "import numpy as np\n",
    "import matplotlib.pyplot as plt\n",
    "from scipy.stats import norm"
   ]
  },
  {
   "cell_type": "code",
   "execution_count": 4,
   "id": "87e5a20a-2761-4f55-9608-417cbc2310c9",
   "metadata": {},
   "outputs": [],
   "source": [
    "import_data = pd.read_csv('telescope_data.csv')"
   ]
  },
  {
   "cell_type": "code",
   "execution_count": 5,
   "id": "f6b5f729-86e8-4612-b819-d4ef8752c957",
   "metadata": {},
   "outputs": [],
   "source": [
    "data = import_data.iloc[:, :-1]"
   ]
  },
  {
   "cell_type": "code",
   "execution_count": 6,
   "id": "429b8281-83b9-4a52-9734-f54d5b1be32c",
   "metadata": {},
   "outputs": [
    {
     "data": {
      "text/html": [
       "<div>\n",
       "<style scoped>\n",
       "    .dataframe tbody tr th:only-of-type {\n",
       "        vertical-align: middle;\n",
       "    }\n",
       "\n",
       "    .dataframe tbody tr th {\n",
       "        vertical-align: top;\n",
       "    }\n",
       "\n",
       "    .dataframe thead th {\n",
       "        text-align: right;\n",
       "    }\n",
       "</style>\n",
       "<table border=\"1\" class=\"dataframe\">\n",
       "  <thead>\n",
       "    <tr style=\"text-align: right;\">\n",
       "      <th></th>\n",
       "      <th>fLength</th>\n",
       "      <th>fWidth</th>\n",
       "      <th>fSize</th>\n",
       "      <th>fConc</th>\n",
       "      <th>fConc1</th>\n",
       "      <th>fAsym</th>\n",
       "      <th>fM3Long</th>\n",
       "      <th>fM3Trans</th>\n",
       "      <th>fAlpha</th>\n",
       "      <th>fDist</th>\n",
       "    </tr>\n",
       "  </thead>\n",
       "  <tbody>\n",
       "    <tr>\n",
       "      <th>0</th>\n",
       "      <td>28.7967</td>\n",
       "      <td>16.0021</td>\n",
       "      <td>2.6449</td>\n",
       "      <td>0.3918</td>\n",
       "      <td>0.1982</td>\n",
       "      <td>27.7004</td>\n",
       "      <td>22.0110</td>\n",
       "      <td>-8.2027</td>\n",
       "      <td>40.0920</td>\n",
       "      <td>81.8828</td>\n",
       "    </tr>\n",
       "    <tr>\n",
       "      <th>1</th>\n",
       "      <td>31.6036</td>\n",
       "      <td>11.7235</td>\n",
       "      <td>2.5185</td>\n",
       "      <td>0.5303</td>\n",
       "      <td>0.3773</td>\n",
       "      <td>26.2722</td>\n",
       "      <td>23.8238</td>\n",
       "      <td>-9.9574</td>\n",
       "      <td>6.3609</td>\n",
       "      <td>205.2610</td>\n",
       "    </tr>\n",
       "    <tr>\n",
       "      <th>2</th>\n",
       "      <td>162.0520</td>\n",
       "      <td>136.0310</td>\n",
       "      <td>4.0612</td>\n",
       "      <td>0.0374</td>\n",
       "      <td>0.0187</td>\n",
       "      <td>116.7410</td>\n",
       "      <td>-64.8580</td>\n",
       "      <td>-45.2160</td>\n",
       "      <td>76.9600</td>\n",
       "      <td>256.7880</td>\n",
       "    </tr>\n",
       "    <tr>\n",
       "      <th>3</th>\n",
       "      <td>23.8172</td>\n",
       "      <td>9.5728</td>\n",
       "      <td>2.3385</td>\n",
       "      <td>0.6147</td>\n",
       "      <td>0.3922</td>\n",
       "      <td>27.2107</td>\n",
       "      <td>-6.4633</td>\n",
       "      <td>-7.1513</td>\n",
       "      <td>10.4490</td>\n",
       "      <td>116.7370</td>\n",
       "    </tr>\n",
       "    <tr>\n",
       "      <th>4</th>\n",
       "      <td>75.1362</td>\n",
       "      <td>30.9205</td>\n",
       "      <td>3.1611</td>\n",
       "      <td>0.3168</td>\n",
       "      <td>0.1832</td>\n",
       "      <td>-5.5277</td>\n",
       "      <td>28.5525</td>\n",
       "      <td>21.8393</td>\n",
       "      <td>4.6480</td>\n",
       "      <td>356.4620</td>\n",
       "    </tr>\n",
       "  </tbody>\n",
       "</table>\n",
       "</div>"
      ],
      "text/plain": [
       "    fLength    fWidth   fSize   fConc  fConc1     fAsym  fM3Long  fM3Trans  \\\n",
       "0   28.7967   16.0021  2.6449  0.3918  0.1982   27.7004  22.0110   -8.2027   \n",
       "1   31.6036   11.7235  2.5185  0.5303  0.3773   26.2722  23.8238   -9.9574   \n",
       "2  162.0520  136.0310  4.0612  0.0374  0.0187  116.7410 -64.8580  -45.2160   \n",
       "3   23.8172    9.5728  2.3385  0.6147  0.3922   27.2107  -6.4633   -7.1513   \n",
       "4   75.1362   30.9205  3.1611  0.3168  0.1832   -5.5277  28.5525   21.8393   \n",
       "\n",
       "    fAlpha     fDist  \n",
       "0  40.0920   81.8828  \n",
       "1   6.3609  205.2610  \n",
       "2  76.9600  256.7880  \n",
       "3  10.4490  116.7370  \n",
       "4   4.6480  356.4620  "
      ]
     },
     "execution_count": 6,
     "metadata": {},
     "output_type": "execute_result"
    }
   ],
   "source": [
    "data.head()"
   ]
  },
  {
   "cell_type": "markdown",
   "id": "7fdb8d61-d65e-450e-b809-9aef95a0228f",
   "metadata": {},
   "source": [
    "# Q1"
   ]
  },
  {
   "cell_type": "code",
   "execution_count": 7,
   "id": "b9f3d73c-a527-45c3-a981-7dfee1374559",
   "metadata": {},
   "outputs": [],
   "source": [
    "multivariate_mean_vector = np.mean(data, axis = 0)"
   ]
  },
  {
   "cell_type": "code",
   "execution_count": 8,
   "id": "27c85a37-2b6e-471f-8867-a84e59d9bddb",
   "metadata": {},
   "outputs": [
    {
     "data": {
      "text/plain": [
       "fLength      57.675030\n",
       "fWidth       24.015214\n",
       "fSize         2.873639\n",
       "fConc         0.363390\n",
       "fConc1        0.207434\n",
       "fAsym        -3.221765\n",
       "fM3Long      13.136590\n",
       "fM3Trans      1.791702\n",
       "fAlpha       31.526518\n",
       "fDist       197.804527\n",
       "dtype: float64"
      ]
     },
     "execution_count": 8,
     "metadata": {},
     "output_type": "execute_result"
    }
   ],
   "source": [
    "multivariate_mean_vector"
   ]
  },
  {
   "cell_type": "markdown",
   "id": "c3e09eb0-0e29-4edc-894a-2fc423847afe",
   "metadata": {},
   "source": [
    "# Q2"
   ]
  },
  {
   "cell_type": "code",
   "execution_count": 9,
   "id": "62f585bf-b8a4-4e61-895a-bf8b566076e4",
   "metadata": {},
   "outputs": [],
   "source": [
    "data_centered = data - np.mean(data, axis=0)\n",
    "data_centered_transpose = data_centered.T\n",
    "covariance_matrix = np.dot(data_centered_transpose, data_centered)\n",
    "\n",
    "n_observations = data_centered.shape[0]\n",
    "inner_covariance_matrix = pd.DataFrame(covariance_matrix / (n_observations - 1))"
   ]
  },
  {
   "cell_type": "code",
   "execution_count": 10,
   "id": "186ea496-8d1d-4c3f-8d1a-4528246a5a0e",
   "metadata": {},
   "outputs": [
    {
     "data": {
      "text/html": [
       "<div>\n",
       "<style scoped>\n",
       "    .dataframe tbody tr th:only-of-type {\n",
       "        vertical-align: middle;\n",
       "    }\n",
       "\n",
       "    .dataframe tbody tr th {\n",
       "        vertical-align: top;\n",
       "    }\n",
       "\n",
       "    .dataframe thead th {\n",
       "        text-align: right;\n",
       "    }\n",
       "</style>\n",
       "<table border=\"1\" class=\"dataframe\">\n",
       "  <thead>\n",
       "    <tr style=\"text-align: right;\">\n",
       "      <th></th>\n",
       "      <th>0</th>\n",
       "      <th>1</th>\n",
       "      <th>2</th>\n",
       "      <th>3</th>\n",
       "      <th>4</th>\n",
       "      <th>5</th>\n",
       "      <th>6</th>\n",
       "      <th>7</th>\n",
       "      <th>8</th>\n",
       "      <th>9</th>\n",
       "    </tr>\n",
       "  </thead>\n",
       "  <tbody>\n",
       "    <tr>\n",
       "      <th>0</th>\n",
       "      <td>1766.710603</td>\n",
       "      <td>731.278208</td>\n",
       "      <td>13.877761</td>\n",
       "      <td>-4.795976</td>\n",
       "      <td>-2.754310</td>\n",
       "      <td>-338.521963</td>\n",
       "      <td>-317.091670</td>\n",
       "      <td>134.197204</td>\n",
       "      <td>-42.699515</td>\n",
       "      <td>1088.506735</td>\n",
       "    </tr>\n",
       "    <tr>\n",
       "      <th>1</th>\n",
       "      <td>731.278208</td>\n",
       "      <td>511.310810</td>\n",
       "      <td>7.031488</td>\n",
       "      <td>-2.230835</td>\n",
       "      <td>-1.292486</td>\n",
       "      <td>254.802711</td>\n",
       "      <td>-419.194118</td>\n",
       "      <td>76.420843</td>\n",
       "      <td>34.672026</td>\n",
       "      <td>456.444068</td>\n",
       "    </tr>\n",
       "    <tr>\n",
       "      <th>2</th>\n",
       "      <td>13.877761</td>\n",
       "      <td>7.031488</td>\n",
       "      <td>0.226271</td>\n",
       "      <td>-0.067494</td>\n",
       "      <td>-0.038788</td>\n",
       "      <td>0.460739</td>\n",
       "      <td>1.608942</td>\n",
       "      <td>0.648693</td>\n",
       "      <td>-2.846388</td>\n",
       "      <td>17.400684</td>\n",
       "    </tr>\n",
       "    <tr>\n",
       "      <th>3</th>\n",
       "      <td>-4.795976</td>\n",
       "      <td>-2.230835</td>\n",
       "      <td>-0.067494</td>\n",
       "      <td>0.029483</td>\n",
       "      <td>0.017875</td>\n",
       "      <td>0.329190</td>\n",
       "      <td>-0.884361</td>\n",
       "      <td>-0.393915</td>\n",
       "      <td>1.319799</td>\n",
       "      <td>-4.615745</td>\n",
       "    </tr>\n",
       "    <tr>\n",
       "      <th>4</th>\n",
       "      <td>-2.754310</td>\n",
       "      <td>-1.292486</td>\n",
       "      <td>-0.038788</td>\n",
       "      <td>0.017875</td>\n",
       "      <td>0.011461</td>\n",
       "      <td>0.154446</td>\n",
       "      <td>-0.605827</td>\n",
       "      <td>-0.209961</td>\n",
       "      <td>0.710753</td>\n",
       "      <td>-2.523787</td>\n",
       "    </tr>\n",
       "    <tr>\n",
       "      <th>5</th>\n",
       "      <td>-338.521963</td>\n",
       "      <td>254.802711</td>\n",
       "      <td>0.460739</td>\n",
       "      <td>0.329190</td>\n",
       "      <td>0.154446</td>\n",
       "      <td>3899.838668</td>\n",
       "      <td>-263.597250</td>\n",
       "      <td>15.496390</td>\n",
       "      <td>10.170821</td>\n",
       "      <td>-659.973549</td>\n",
       "    </tr>\n",
       "    <tr>\n",
       "      <th>6</th>\n",
       "      <td>-317.091670</td>\n",
       "      <td>-419.194118</td>\n",
       "      <td>1.608942</td>\n",
       "      <td>-0.884361</td>\n",
       "      <td>-0.605827</td>\n",
       "      <td>-263.597250</td>\n",
       "      <td>2851.490243</td>\n",
       "      <td>124.168867</td>\n",
       "      <td>-277.106455</td>\n",
       "      <td>633.900249</td>\n",
       "    </tr>\n",
       "    <tr>\n",
       "      <th>7</th>\n",
       "      <td>134.197204</td>\n",
       "      <td>76.420843</td>\n",
       "      <td>0.648693</td>\n",
       "      <td>-0.393915</td>\n",
       "      <td>-0.209961</td>\n",
       "      <td>15.496390</td>\n",
       "      <td>124.168867</td>\n",
       "      <td>463.939383</td>\n",
       "      <td>-33.519699</td>\n",
       "      <td>165.463602</td>\n",
       "    </tr>\n",
       "    <tr>\n",
       "      <th>8</th>\n",
       "      <td>-42.699515</td>\n",
       "      <td>34.672026</td>\n",
       "      <td>-2.846388</td>\n",
       "      <td>1.319799</td>\n",
       "      <td>0.710753</td>\n",
       "      <td>10.170821</td>\n",
       "      <td>-277.106455</td>\n",
       "      <td>-33.519699</td>\n",
       "      <td>825.699936</td>\n",
       "      <td>-479.369739</td>\n",
       "    </tr>\n",
       "    <tr>\n",
       "      <th>9</th>\n",
       "      <td>1088.506735</td>\n",
       "      <td>456.444068</td>\n",
       "      <td>17.400684</td>\n",
       "      <td>-4.615745</td>\n",
       "      <td>-2.523787</td>\n",
       "      <td>-659.973549</td>\n",
       "      <td>633.900249</td>\n",
       "      <td>165.463602</td>\n",
       "      <td>-479.369739</td>\n",
       "      <td>6361.467591</td>\n",
       "    </tr>\n",
       "  </tbody>\n",
       "</table>\n",
       "</div>"
      ],
      "text/plain": [
       "             0           1          2         3         4            5  \\\n",
       "0  1766.710603  731.278208  13.877761 -4.795976 -2.754310  -338.521963   \n",
       "1   731.278208  511.310810   7.031488 -2.230835 -1.292486   254.802711   \n",
       "2    13.877761    7.031488   0.226271 -0.067494 -0.038788     0.460739   \n",
       "3    -4.795976   -2.230835  -0.067494  0.029483  0.017875     0.329190   \n",
       "4    -2.754310   -1.292486  -0.038788  0.017875  0.011461     0.154446   \n",
       "5  -338.521963  254.802711   0.460739  0.329190  0.154446  3899.838668   \n",
       "6  -317.091670 -419.194118   1.608942 -0.884361 -0.605827  -263.597250   \n",
       "7   134.197204   76.420843   0.648693 -0.393915 -0.209961    15.496390   \n",
       "8   -42.699515   34.672026  -2.846388  1.319799  0.710753    10.170821   \n",
       "9  1088.506735  456.444068  17.400684 -4.615745 -2.523787  -659.973549   \n",
       "\n",
       "             6           7           8            9  \n",
       "0  -317.091670  134.197204  -42.699515  1088.506735  \n",
       "1  -419.194118   76.420843   34.672026   456.444068  \n",
       "2     1.608942    0.648693   -2.846388    17.400684  \n",
       "3    -0.884361   -0.393915    1.319799    -4.615745  \n",
       "4    -0.605827   -0.209961    0.710753    -2.523787  \n",
       "5  -263.597250   15.496390   10.170821  -659.973549  \n",
       "6  2851.490243  124.168867 -277.106455   633.900249  \n",
       "7   124.168867  463.939383  -33.519699   165.463602  \n",
       "8  -277.106455  -33.519699  825.699936  -479.369739  \n",
       "9   633.900249  165.463602 -479.369739  6361.467591  "
      ]
     },
     "execution_count": 10,
     "metadata": {},
     "output_type": "execute_result"
    }
   ],
   "source": [
    "inner_covariance_matrix"
   ]
  },
  {
   "cell_type": "markdown",
   "id": "6d1a8a5e-3700-4c70-9a9e-932d08ce3b92",
   "metadata": {},
   "source": [
    "# Q3"
   ]
  },
  {
   "cell_type": "code",
   "execution_count": 11,
   "id": "025124a6-aa74-4b88-8980-4dd54aa55b09",
   "metadata": {},
   "outputs": [],
   "source": [
    "outer_product = np.outer(data_centered, data_centered)\n",
    "\n",
    "n_observations = data_centered.shape[0]\n",
    "outer_covariance_matrix = pd.DataFrame(outer_product / (n_observations - 1))"
   ]
  },
  {
   "cell_type": "code",
   "execution_count": 12,
   "id": "bd2c2767-9888-4cb1-88b0-fef708a33f5f",
   "metadata": {},
   "outputs": [
    {
     "data": {
      "text/html": [
       "<div>\n",
       "<style scoped>\n",
       "    .dataframe tbody tr th:only-of-type {\n",
       "        vertical-align: middle;\n",
       "    }\n",
       "\n",
       "    .dataframe tbody tr th {\n",
       "        vertical-align: top;\n",
       "    }\n",
       "\n",
       "    .dataframe thead th {\n",
       "        text-align: right;\n",
       "    }\n",
       "</style>\n",
       "<table border=\"1\" class=\"dataframe\">\n",
       "  <thead>\n",
       "    <tr style=\"text-align: right;\">\n",
       "      <th></th>\n",
       "      <th>0</th>\n",
       "      <th>1</th>\n",
       "      <th>2</th>\n",
       "      <th>3</th>\n",
       "      <th>4</th>\n",
       "      <th>5</th>\n",
       "      <th>6</th>\n",
       "      <th>7</th>\n",
       "      <th>8</th>\n",
       "      <th>9</th>\n",
       "      <th>...</th>\n",
       "      <th>2000</th>\n",
       "      <th>2001</th>\n",
       "      <th>2002</th>\n",
       "      <th>2003</th>\n",
       "      <th>2004</th>\n",
       "      <th>2005</th>\n",
       "      <th>2006</th>\n",
       "      <th>2007</th>\n",
       "      <th>2008</th>\n",
       "      <th>2009</th>\n",
       "    </tr>\n",
       "  </thead>\n",
       "  <tbody>\n",
       "    <tr>\n",
       "      <th>0</th>\n",
       "      <td>4.169790</td>\n",
       "      <td>1.157027</td>\n",
       "      <td>0.033028</td>\n",
       "      <td>-0.004102</td>\n",
       "      <td>1.333360e-03</td>\n",
       "      <td>-4.464902</td>\n",
       "      <td>-1.281391</td>\n",
       "      <td>1.443108</td>\n",
       "      <td>-1.236784</td>\n",
       "      <td>16.738130</td>\n",
       "      <td>...</td>\n",
       "      <td>-11.162048</td>\n",
       "      <td>-12.621532</td>\n",
       "      <td>-0.077258</td>\n",
       "      <td>0.022553</td>\n",
       "      <td>0.014256</td>\n",
       "      <td>10.451896</td>\n",
       "      <td>22.494283</td>\n",
       "      <td>10.285090</td>\n",
       "      <td>-8.196635</td>\n",
       "      <td>-12.201018</td>\n",
       "    </tr>\n",
       "    <tr>\n",
       "      <th>1</th>\n",
       "      <td>1.157027</td>\n",
       "      <td>0.321050</td>\n",
       "      <td>0.009165</td>\n",
       "      <td>-0.001138</td>\n",
       "      <td>3.699786e-04</td>\n",
       "      <td>-1.238914</td>\n",
       "      <td>-0.355558</td>\n",
       "      <td>0.400431</td>\n",
       "      <td>-0.343181</td>\n",
       "      <td>4.644470</td>\n",
       "      <td>...</td>\n",
       "      <td>-3.097228</td>\n",
       "      <td>-3.502203</td>\n",
       "      <td>-0.021438</td>\n",
       "      <td>0.006258</td>\n",
       "      <td>0.003956</td>\n",
       "      <td>2.900176</td>\n",
       "      <td>6.241679</td>\n",
       "      <td>2.853891</td>\n",
       "      <td>-2.274390</td>\n",
       "      <td>-3.385520</td>\n",
       "    </tr>\n",
       "    <tr>\n",
       "      <th>2</th>\n",
       "      <td>0.033028</td>\n",
       "      <td>0.009165</td>\n",
       "      <td>0.000262</td>\n",
       "      <td>-0.000032</td>\n",
       "      <td>1.056125e-05</td>\n",
       "      <td>-0.035365</td>\n",
       "      <td>-0.010150</td>\n",
       "      <td>0.011431</td>\n",
       "      <td>-0.009796</td>\n",
       "      <td>0.132579</td>\n",
       "      <td>...</td>\n",
       "      <td>-0.088412</td>\n",
       "      <td>-0.099972</td>\n",
       "      <td>-0.000612</td>\n",
       "      <td>0.000179</td>\n",
       "      <td>0.000113</td>\n",
       "      <td>0.082787</td>\n",
       "      <td>0.178172</td>\n",
       "      <td>0.081466</td>\n",
       "      <td>-0.064924</td>\n",
       "      <td>-0.096642</td>\n",
       "    </tr>\n",
       "    <tr>\n",
       "      <th>3</th>\n",
       "      <td>-0.004102</td>\n",
       "      <td>-0.001138</td>\n",
       "      <td>-0.000032</td>\n",
       "      <td>0.000004</td>\n",
       "      <td>-1.311734e-06</td>\n",
       "      <td>0.004392</td>\n",
       "      <td>0.001261</td>\n",
       "      <td>-0.001420</td>\n",
       "      <td>0.001217</td>\n",
       "      <td>-0.016467</td>\n",
       "      <td>...</td>\n",
       "      <td>0.010981</td>\n",
       "      <td>0.012417</td>\n",
       "      <td>0.000076</td>\n",
       "      <td>-0.000022</td>\n",
       "      <td>-0.000014</td>\n",
       "      <td>-0.010282</td>\n",
       "      <td>-0.022129</td>\n",
       "      <td>-0.010118</td>\n",
       "      <td>0.008064</td>\n",
       "      <td>0.012003</td>\n",
       "    </tr>\n",
       "    <tr>\n",
       "      <th>4</th>\n",
       "      <td>0.001333</td>\n",
       "      <td>0.000370</td>\n",
       "      <td>0.000011</td>\n",
       "      <td>-0.000001</td>\n",
       "      <td>4.263641e-07</td>\n",
       "      <td>-0.001428</td>\n",
       "      <td>-0.000410</td>\n",
       "      <td>0.000461</td>\n",
       "      <td>-0.000395</td>\n",
       "      <td>0.005352</td>\n",
       "      <td>...</td>\n",
       "      <td>-0.003569</td>\n",
       "      <td>-0.004036</td>\n",
       "      <td>-0.000025</td>\n",
       "      <td>0.000007</td>\n",
       "      <td>0.000005</td>\n",
       "      <td>0.003342</td>\n",
       "      <td>0.007193</td>\n",
       "      <td>0.003289</td>\n",
       "      <td>-0.002621</td>\n",
       "      <td>-0.003901</td>\n",
       "    </tr>\n",
       "    <tr>\n",
       "      <th>...</th>\n",
       "      <td>...</td>\n",
       "      <td>...</td>\n",
       "      <td>...</td>\n",
       "      <td>...</td>\n",
       "      <td>...</td>\n",
       "      <td>...</td>\n",
       "      <td>...</td>\n",
       "      <td>...</td>\n",
       "      <td>...</td>\n",
       "      <td>...</td>\n",
       "      <td>...</td>\n",
       "      <td>...</td>\n",
       "      <td>...</td>\n",
       "      <td>...</td>\n",
       "      <td>...</td>\n",
       "      <td>...</td>\n",
       "      <td>...</td>\n",
       "      <td>...</td>\n",
       "      <td>...</td>\n",
       "      <td>...</td>\n",
       "      <td>...</td>\n",
       "    </tr>\n",
       "    <tr>\n",
       "      <th>2005</th>\n",
       "      <td>10.451896</td>\n",
       "      <td>2.900176</td>\n",
       "      <td>0.082787</td>\n",
       "      <td>-0.010282</td>\n",
       "      <td>3.342168e-03</td>\n",
       "      <td>-11.191618</td>\n",
       "      <td>-3.211903</td>\n",
       "      <td>3.617261</td>\n",
       "      <td>-3.100093</td>\n",
       "      <td>41.955397</td>\n",
       "      <td>...</td>\n",
       "      <td>-27.978523</td>\n",
       "      <td>-31.636832</td>\n",
       "      <td>-0.193654</td>\n",
       "      <td>0.056530</td>\n",
       "      <td>0.035735</td>\n",
       "      <td>26.198473</td>\n",
       "      <td>56.383634</td>\n",
       "      <td>25.780362</td>\n",
       "      <td>-20.545490</td>\n",
       "      <td>-30.582782</td>\n",
       "    </tr>\n",
       "    <tr>\n",
       "      <th>2006</th>\n",
       "      <td>22.494283</td>\n",
       "      <td>6.241679</td>\n",
       "      <td>0.178172</td>\n",
       "      <td>-0.022129</td>\n",
       "      <td>7.192923e-03</td>\n",
       "      <td>-24.086293</td>\n",
       "      <td>-6.912570</td>\n",
       "      <td>7.784969</td>\n",
       "      <td>-6.671936</td>\n",
       "      <td>90.295253</td>\n",
       "      <td>...</td>\n",
       "      <td>-60.214609</td>\n",
       "      <td>-68.087920</td>\n",
       "      <td>-0.416777</td>\n",
       "      <td>0.121662</td>\n",
       "      <td>0.076907</td>\n",
       "      <td>56.383634</td>\n",
       "      <td>121.347308</td>\n",
       "      <td>55.483785</td>\n",
       "      <td>-44.217439</td>\n",
       "      <td>-65.819424</td>\n",
       "    </tr>\n",
       "    <tr>\n",
       "      <th>2007</th>\n",
       "      <td>10.285090</td>\n",
       "      <td>2.853891</td>\n",
       "      <td>0.081466</td>\n",
       "      <td>-0.010118</td>\n",
       "      <td>3.288829e-03</td>\n",
       "      <td>-11.013007</td>\n",
       "      <td>-3.160643</td>\n",
       "      <td>3.559532</td>\n",
       "      <td>-3.050618</td>\n",
       "      <td>41.285814</td>\n",
       "      <td>...</td>\n",
       "      <td>-27.532003</td>\n",
       "      <td>-31.131927</td>\n",
       "      <td>-0.190563</td>\n",
       "      <td>0.055627</td>\n",
       "      <td>0.035164</td>\n",
       "      <td>25.780362</td>\n",
       "      <td>55.483785</td>\n",
       "      <td>25.368922</td>\n",
       "      <td>-20.217596</td>\n",
       "      <td>-30.094699</td>\n",
       "    </tr>\n",
       "    <tr>\n",
       "      <th>2008</th>\n",
       "      <td>-8.196635</td>\n",
       "      <td>-2.274390</td>\n",
       "      <td>-0.064924</td>\n",
       "      <td>0.008064</td>\n",
       "      <td>-2.621011e-03</td>\n",
       "      <td>8.776743</td>\n",
       "      <td>2.518854</td>\n",
       "      <td>-2.836745</td>\n",
       "      <td>2.431170</td>\n",
       "      <td>-32.902459</td>\n",
       "      <td>...</td>\n",
       "      <td>21.941449</td>\n",
       "      <td>24.810385</td>\n",
       "      <td>0.151868</td>\n",
       "      <td>-0.044332</td>\n",
       "      <td>-0.028024</td>\n",
       "      <td>-20.545490</td>\n",
       "      <td>-44.217439</td>\n",
       "      <td>-20.217596</td>\n",
       "      <td>16.112281</td>\n",
       "      <td>23.983773</td>\n",
       "    </tr>\n",
       "    <tr>\n",
       "      <th>2009</th>\n",
       "      <td>-12.201018</td>\n",
       "      <td>-3.385520</td>\n",
       "      <td>-0.096642</td>\n",
       "      <td>0.012003</td>\n",
       "      <td>-3.901479e-03</td>\n",
       "      <td>13.064533</td>\n",
       "      <td>3.749415</td>\n",
       "      <td>-4.222609</td>\n",
       "      <td>3.618893</td>\n",
       "      <td>-48.976624</td>\n",
       "      <td>...</td>\n",
       "      <td>32.660723</td>\n",
       "      <td>36.931249</td>\n",
       "      <td>0.226062</td>\n",
       "      <td>-0.065990</td>\n",
       "      <td>-0.041715</td>\n",
       "      <td>-30.582782</td>\n",
       "      <td>-65.819424</td>\n",
       "      <td>-30.094699</td>\n",
       "      <td>23.983773</td>\n",
       "      <td>35.700804</td>\n",
       "    </tr>\n",
       "  </tbody>\n",
       "</table>\n",
       "<p>2010 rows × 2010 columns</p>\n",
       "</div>"
      ],
      "text/plain": [
       "           0         1         2         3             4          5     \\\n",
       "0      4.169790  1.157027  0.033028 -0.004102  1.333360e-03  -4.464902   \n",
       "1      1.157027  0.321050  0.009165 -0.001138  3.699786e-04  -1.238914   \n",
       "2      0.033028  0.009165  0.000262 -0.000032  1.056125e-05  -0.035365   \n",
       "3     -0.004102 -0.001138 -0.000032  0.000004 -1.311734e-06   0.004392   \n",
       "4      0.001333  0.000370  0.000011 -0.000001  4.263641e-07  -0.001428   \n",
       "...         ...       ...       ...       ...           ...        ...   \n",
       "2005  10.451896  2.900176  0.082787 -0.010282  3.342168e-03 -11.191618   \n",
       "2006  22.494283  6.241679  0.178172 -0.022129  7.192923e-03 -24.086293   \n",
       "2007  10.285090  2.853891  0.081466 -0.010118  3.288829e-03 -11.013007   \n",
       "2008  -8.196635 -2.274390 -0.064924  0.008064 -2.621011e-03   8.776743   \n",
       "2009 -12.201018 -3.385520 -0.096642  0.012003 -3.901479e-03  13.064533   \n",
       "\n",
       "          6         7         8          9     ...       2000       2001  \\\n",
       "0    -1.281391  1.443108 -1.236784  16.738130  ... -11.162048 -12.621532   \n",
       "1    -0.355558  0.400431 -0.343181   4.644470  ...  -3.097228  -3.502203   \n",
       "2    -0.010150  0.011431 -0.009796   0.132579  ...  -0.088412  -0.099972   \n",
       "3     0.001261 -0.001420  0.001217  -0.016467  ...   0.010981   0.012417   \n",
       "4    -0.000410  0.000461 -0.000395   0.005352  ...  -0.003569  -0.004036   \n",
       "...        ...       ...       ...        ...  ...        ...        ...   \n",
       "2005 -3.211903  3.617261 -3.100093  41.955397  ... -27.978523 -31.636832   \n",
       "2006 -6.912570  7.784969 -6.671936  90.295253  ... -60.214609 -68.087920   \n",
       "2007 -3.160643  3.559532 -3.050618  41.285814  ... -27.532003 -31.131927   \n",
       "2008  2.518854 -2.836745  2.431170 -32.902459  ...  21.941449  24.810385   \n",
       "2009  3.749415 -4.222609  3.618893 -48.976624  ...  32.660723  36.931249   \n",
       "\n",
       "          2002      2003      2004       2005        2006       2007  \\\n",
       "0    -0.077258  0.022553  0.014256  10.451896   22.494283  10.285090   \n",
       "1    -0.021438  0.006258  0.003956   2.900176    6.241679   2.853891   \n",
       "2    -0.000612  0.000179  0.000113   0.082787    0.178172   0.081466   \n",
       "3     0.000076 -0.000022 -0.000014  -0.010282   -0.022129  -0.010118   \n",
       "4    -0.000025  0.000007  0.000005   0.003342    0.007193   0.003289   \n",
       "...        ...       ...       ...        ...         ...        ...   \n",
       "2005 -0.193654  0.056530  0.035735  26.198473   56.383634  25.780362   \n",
       "2006 -0.416777  0.121662  0.076907  56.383634  121.347308  55.483785   \n",
       "2007 -0.190563  0.055627  0.035164  25.780362   55.483785  25.368922   \n",
       "2008  0.151868 -0.044332 -0.028024 -20.545490  -44.217439 -20.217596   \n",
       "2009  0.226062 -0.065990 -0.041715 -30.582782  -65.819424 -30.094699   \n",
       "\n",
       "           2008       2009  \n",
       "0     -8.196635 -12.201018  \n",
       "1     -2.274390  -3.385520  \n",
       "2     -0.064924  -0.096642  \n",
       "3      0.008064   0.012003  \n",
       "4     -0.002621  -0.003901  \n",
       "...         ...        ...  \n",
       "2005 -20.545490 -30.582782  \n",
       "2006 -44.217439 -65.819424  \n",
       "2007 -20.217596 -30.094699  \n",
       "2008  16.112281  23.983773  \n",
       "2009  23.983773  35.700804  \n",
       "\n",
       "[2010 rows x 2010 columns]"
      ]
     },
     "execution_count": 12,
     "metadata": {},
     "output_type": "execute_result"
    }
   ],
   "source": [
    "outer_covariance_matrix"
   ]
  },
  {
   "cell_type": "markdown",
   "id": "8118b4c3-4132-4ece-a281-cd9f5bd4b524",
   "metadata": {},
   "source": [
    "# Q4"
   ]
  },
  {
   "cell_type": "code",
   "execution_count": 13,
   "id": "c6764d6b-247a-4c56-8c05-dd90627df57c",
   "metadata": {},
   "outputs": [],
   "source": [
    "selected_data = data.loc[:, [\"fM3Long\", \"fM3Trans\"]]\n",
    "covariance_matrix = np.cov(selected_data, rowvar=False)\n",
    "eigenvalues, eigenvectors = np.linalg.eig(covariance_matrix)"
   ]
  },
  {
   "cell_type": "code",
   "execution_count": 14,
   "id": "2d19ff1b-c2f5-4485-89c1-d6b2ff92d6cb",
   "metadata": {},
   "outputs": [
    {
     "name": "stdout",
     "output_type": "stream",
     "text": [
      "Eigenvalues:\n",
      "[2857.93049538  457.49913084]\n",
      "\n",
      "Eigenvectors:\n",
      "[[ 0.99865762 -0.05179726]\n",
      " [ 0.05179726  0.99865762]]\n"
     ]
    }
   ],
   "source": [
    "print(\"Eigenvalues:\")\n",
    "print(eigenvalues)\n",
    "print(\"\\nEigenvectors:\")\n",
    "print(eigenvectors)"
   ]
  },
  {
   "cell_type": "markdown",
   "id": "cc25ef59-9a00-4eaf-ac44-d26c8ca5301a",
   "metadata": {},
   "source": [
    "# Q5"
   ]
  },
  {
   "cell_type": "code",
   "execution_count": 15,
   "id": "6c641995-3176-4e8b-905a-e610186fc978",
   "metadata": {},
   "outputs": [],
   "source": [
    "selected_data = data.loc[:, [\"fSize\",\"fM3Long\", \"fM3Trans\"]]\n",
    "covariance_matrix = pd.DataFrame(np.cov(selected_data, rowvar=False))"
   ]
  },
  {
   "cell_type": "code",
   "execution_count": 16,
   "id": "220d3e2f-0954-4cb7-8acc-a88c5337a35a",
   "metadata": {},
   "outputs": [
    {
     "data": {
      "text/html": [
       "<div>\n",
       "<style scoped>\n",
       "    .dataframe tbody tr th:only-of-type {\n",
       "        vertical-align: middle;\n",
       "    }\n",
       "\n",
       "    .dataframe tbody tr th {\n",
       "        vertical-align: top;\n",
       "    }\n",
       "\n",
       "    .dataframe thead th {\n",
       "        text-align: right;\n",
       "    }\n",
       "</style>\n",
       "<table border=\"1\" class=\"dataframe\">\n",
       "  <thead>\n",
       "    <tr style=\"text-align: right;\">\n",
       "      <th></th>\n",
       "      <th>0</th>\n",
       "      <th>1</th>\n",
       "      <th>2</th>\n",
       "    </tr>\n",
       "  </thead>\n",
       "  <tbody>\n",
       "    <tr>\n",
       "      <th>0</th>\n",
       "      <td>0.226271</td>\n",
       "      <td>1.608942</td>\n",
       "      <td>0.648693</td>\n",
       "    </tr>\n",
       "    <tr>\n",
       "      <th>1</th>\n",
       "      <td>1.608942</td>\n",
       "      <td>2851.490243</td>\n",
       "      <td>124.168867</td>\n",
       "    </tr>\n",
       "    <tr>\n",
       "      <th>2</th>\n",
       "      <td>0.648693</td>\n",
       "      <td>124.168867</td>\n",
       "      <td>463.939383</td>\n",
       "    </tr>\n",
       "  </tbody>\n",
       "</table>\n",
       "</div>"
      ],
      "text/plain": [
       "          0            1           2\n",
       "0  0.226271     1.608942    0.648693\n",
       "1  1.608942  2851.490243  124.168867\n",
       "2  0.648693   124.168867  463.939383"
      ]
     },
     "execution_count": 16,
     "metadata": {},
     "output_type": "execute_result"
    }
   ],
   "source": [
    "covariance_matrix"
   ]
  },
  {
   "cell_type": "markdown",
   "id": "efa65e23-7aa0-4df6-87d2-ea6ca17fb114",
   "metadata": {},
   "source": [
    "# Q6"
   ]
  },
  {
   "cell_type": "code",
   "execution_count": 17,
   "id": "c53534e1-0d39-4c44-97db-dab626fd18ef",
   "metadata": {},
   "outputs": [
    {
     "name": "stdout",
     "output_type": "stream",
     "text": [
      "Category Counts:\n",
      "(array(['1', '2', '3', '4'], dtype='<U1'), array([51, 50, 50, 50], dtype=int64))\n"
     ]
    }
   ],
   "source": [
    "attribute_2 = data.loc[:, \"fWidth\"]\n",
    "\n",
    "q1 = np.percentile(attribute_2, 25)\n",
    "median = np.percentile(attribute_2, 50)\n",
    "q3 = np.percentile(attribute_2, 75)\n",
    "\n",
    "def categorize(value):\n",
    "    if value <= q1:\n",
    "        return '1'\n",
    "    elif q1 < value <= median:\n",
    "        return '2'\n",
    "    elif median < value <= q3:\n",
    "        return '3'\n",
    "    else:\n",
    "        return '4'\n",
    "\n",
    "categorical_attribute_2 = np.array([categorize(value) for value in attribute_2])\n",
    "\n",
    "print(\"Category Counts:\")\n",
    "print(np.unique(categorical_attribute_2, return_counts=True))\n",
    "\n",
    "categorical_attribute_2_encoded = np.array([np.where(np.unique(categorical_attribute_2) == category)[0][0] for category in categorical_attribute_2])\n",
    "\n",
    "covariance_matrix_with_categorical = np.cov(categorical_attribute_2_encoded)"
   ]
  },
  {
   "cell_type": "code",
   "execution_count": 18,
   "id": "1b756e6d-71a0-4770-b1a7-2709d3356699",
   "metadata": {},
   "outputs": [
    {
     "data": {
      "text/plain": [
       "array(1.26119403)"
      ]
     },
     "execution_count": 18,
     "metadata": {},
     "output_type": "execute_result"
    }
   ],
   "source": [
    "covariance_matrix_with_categorical"
   ]
  },
  {
   "cell_type": "markdown",
   "id": "ff63d090-784f-4150-9aa6-eb909a3e9d09",
   "metadata": {},
   "source": [
    "# Q7"
   ]
  },
  {
   "cell_type": "code",
   "execution_count": 19,
   "id": "2fe8e7b1-0f4f-44f4-b2fb-e3689c6250e8",
   "metadata": {},
   "outputs": [
    {
     "data": {
      "image/png": "[encoded data removed]",
      "text/plain": [
       "<Figure size 1000x600 with 1 Axes>"
      ]
     },
     "metadata": {},
     "output_type": "display_data"
    }
   ],
   "source": [
    "attributes_data = data.loc[:, [\"fConc\", \"fAsym\", \"fM3Trans\"]]\n",
    "def empirical_cdf(data):\n",
    "    sorted_data = np.sort(data)\n",
    "    n = len(data)\n",
    "    cdf = np.arange(1, n + 1) / n\n",
    "    return sorted_data, cdf\n",
    "\n",
    "plt.figure(figsize=(10, 6))\n",
    "for i, attribute_index in enumerate([\"fConc\", \"fAsym\", \"fM3Trans\"]):\n",
    "    attribute_data = attributes_data.loc[:, attribute_index]\n",
    "    sorted_data, cdf = empirical_cdf(attribute_data)\n",
    "    plt.plot(sorted_data, cdf, label=f'{attribute_index}')\n",
    "\n",
    "plt.title('Empirical CDFs of Attributes 4, 6, and 8')\n",
    "plt.xlabel('Attribute Value')\n",
    "plt.ylabel('Cumulative Probability')\n",
    "plt.legend()\n",
    "plt.grid(True)\n",
    "plt.show()"
   ]
  },
  {
   "cell_type": "markdown",
   "id": "e24c5a23-ea94-4d72-bdd7-cd658e008fa4",
   "metadata": {},
   "source": [
    "# Q8"
   ]
  },
  {
   "cell_type": "code",
   "execution_count": 20,
   "id": "6ddf7ea8-290e-4511-be78-69d75f4eaffd",
   "metadata": {},
   "outputs": [],
   "source": [
    "selected_data = data.loc[:, [\"fDist\"]]\n",
    "covariance_matrix = np.cov(selected_data, rowvar=False)"
   ]
  },
  {
   "cell_type": "code",
   "execution_count": 21,
   "id": "cfe96a1b-9467-4141-b78d-419a2c60dc85",
   "metadata": {},
   "outputs": [
    {
     "data": {
      "text/plain": [
       "array(6361.46759083)"
      ]
     },
     "execution_count": 21,
     "metadata": {},
     "output_type": "execute_result"
    }
   ],
   "source": [
    "covariance_matrix"
   ]
  },
  {
   "cell_type": "markdown",
   "id": "0b8cb1e4-4a9d-4b07-bd3a-d572f95d0f47",
   "metadata": {},
   "source": [
    "# Q9"
   ]
  },
  {
   "cell_type": "code",
   "execution_count": 22,
   "id": "f75e0b0f-35f6-4933-8981-6436c8a15f36",
   "metadata": {},
   "outputs": [
    {
     "data": {
      "image/png": "[encoded data removed]",
      "text/plain": [
       "<Figure size 800x600 with 1 Axes>"
      ]
     },
     "metadata": {},
     "output_type": "display_data"
    },
    {
     "name": "stdout",
     "output_type": "stream",
     "text": [
      "Correlation (Cosine of Angle) between Attributes 1 and 2: 0.7694093096665072\n"
     ]
    }
   ],
   "source": [
    "attribute_1 = data.loc[:, \"fLength\"]\n",
    "attribute_2 = data.loc[:, \"fWidth\"]\n",
    "\n",
    "attribute_1_centered = attribute_1 - np.mean(attribute_1)\n",
    "attribute_2_centered = attribute_2 - np.mean(attribute_2)\n",
    "\n",
    "# Compute the cosine of the angle between the centered attribute vectors\n",
    "cosine_angle = np.dot(attribute_1_centered, attribute_2_centered) / (np.linalg.norm(attribute_1_centered) * np.linalg.norm(attribute_2_centered))\n",
    "\n",
    "# Plot the scatter plot between Attributes 1 and 2\n",
    "plt.figure(figsize=(8, 6))\n",
    "plt.scatter(attribute_1, attribute_2, color='blue', alpha=0.5)\n",
    "plt.title('Scatter Plot between Attributes 1 and 2')\n",
    "plt.xlabel('Attribute 1')\n",
    "plt.ylabel('Attribute 2')\n",
    "plt.grid(True)\n",
    "plt.show()\n",
    "\n",
    "print(\"Correlation (Cosine of Angle) between Attributes 1 and 2:\", cosine_angle)"
   ]
  },
  {
   "cell_type": "markdown",
   "id": "74cdd31f-927e-4964-b221-99d7fab3eeb7",
   "metadata": {},
   "source": [
    "# Q10"
   ]
  },
  {
   "cell_type": "code",
   "execution_count": 23,
   "id": "92f54a97-255c-4528-98e5-0fdbe2a9cb0f",
   "metadata": {},
   "outputs": [
    {
     "data": {
      "image/png": "[encoded data removed]",
      "text/plain": [
       "<Figure size 800x600 with 1 Axes>"
      ]
     },
     "metadata": {},
     "output_type": "display_data"
    }
   ],
   "source": [
    "attribute_1 = data.loc[:, \"fLength\"]\n",
    "mu, sigma = norm.fit(attribute_1)\n",
    "\n",
    "plt.figure(figsize=(8, 6))\n",
    "plt.hist(attribute_1, bins=30, density=True, alpha=0.6, color='blue')\n",
    "\n",
    "xmin, xmax = plt.xlim()\n",
    "x = np.linspace(xmin, xmax, 100)\n",
    "p = norm.pdf(x, mu, sigma)\n",
    "plt.plot(x, p, 'k', linewidth=2)\n",
    "\n",
    "plt.title('Probability Density Function (PDF) of fLength')\n",
    "plt.xlabel('fLength')\n",
    "plt.ylabel('Density')\n",
    "plt.grid(True)\n",
    "plt.show()"
   ]
  },
  {
   "cell_type": "markdown",
   "id": "e92b8bda-e4f5-4471-9d3d-ad9ebdca4e8c",
   "metadata": {},
   "source": [
    "# Q11"
   ]
  },
  {
   "cell_type": "code",
   "execution_count": 24,
   "id": "547d9dbc-0fd0-498b-8a1b-cd33e6b9fef0",
   "metadata": {},
   "outputs": [
    {
     "name": "stdout",
     "output_type": "stream",
     "text": [
      "Attribute with the largest variance: fDist\n",
      "Variance: 6329.818498334127\n",
      "\n",
      "Attribute with the smallest variance: fConc1\n",
      "Variance: 0.01140427339867825\n"
     ]
    }
   ],
   "source": [
    "variances = np.var(data, axis=0)\n",
    "max_variance_attribute_index = np.argmax(variances)\n",
    "max_variance = variances[max_variance_attribute_index]\n",
    "min_variance_attribute_index = np.argmin(variances)\n",
    "min_variance = variances[min_variance_attribute_index]\n",
    "\n",
    "columns = data.columns\n",
    "\n",
    "print(\"Attribute with the largest variance:\", columns[max_variance_attribute_index])\n",
    "print(\"Variance:\", max_variance)\n",
    "\n",
    "print(\"\\nAttribute with the smallest variance:\", columns[min_variance_attribute_index])\n",
    "print(\"Variance:\", min_variance)"
   ]
  },
  {
   "cell_type": "markdown",
   "id": "0fee2ecb-0f7b-4a94-afbd-447f9cf7cf7c",
   "metadata": {},
   "source": [
    "# Q12"
   ]
  },
  {
   "cell_type": "code",
   "execution_count": 29,
   "id": "6485bda5-a113-4330-a3e8-cc9d3afa02da",
   "metadata": {},
   "outputs": [
    {
     "name": "stdout",
     "output_type": "stream",
     "text": [
      "Pair of attributes with the largest covariance (0-indexed): (0, 9)\n",
      "Largest covariance: 1088.5067354049152\n",
      "Pair of attributes with the smallest covariance (0-indexed): (5, 9)\n",
      "Smallest covariance: -659.9735489916213\n"
     ]
    }
   ],
   "source": [
    "covariance_matrix = np.cov(data, rowvar=False)\n",
    "\n",
    "max_covariance = float('-inf')\n",
    "max_indices = None\n",
    "\n",
    "min_covariance = float('inf')\n",
    "min_indices = None\n",
    "\n",
    "for i in range(10):\n",
    "    for j in range(i + 1, 10):\n",
    "        covariance = covariance_matrix[i, j]\n",
    "        \n",
    "        if covariance > max_covariance:\n",
    "            max_covariance = covariance\n",
    "            max_indices = (i, j)\n",
    "        if covariance < min_covariance:\n",
    "            min_covariance = covariance\n",
    "            min_indices = (i, j)\n",
    "\n",
    "print(\"Pair of attributes with the largest covariance (0-indexed):\", max_indices)\n",
    "print(\"Largest covariance:\", max_covariance)\n",
    "\n",
    "print(\"Pair of attributes with the smallest covariance (0-indexed):\", min_indices)\n",
    "print(\"Smallest covariance:\", min_covariance)"
   ]
  },
  {
   "cell_type": "markdown",
   "id": "bb7ee7ae-20b1-487a-bfef-3f43b2b86acd",
   "metadata": {},
   "source": [
    "# Q13"
   ]
  },
  {
   "cell_type": "code",
   "execution_count": 26,
   "id": "68ccd665-9e00-4fa9-b507-2d0dc650a577",
   "metadata": {},
   "outputs": [
    {
     "data": {
      "image/png": "[encoded data removed]",
      "text/plain": [
       "<Figure size 800x600 with 1 Axes>"
      ]
     },
     "metadata": {},
     "output_type": "display_data"
    }
   ],
   "source": [
    "attribute_2 = data.loc[:, \"fWidth\"]\n",
    "attribute_5 = data.loc[:, \"fConc1\"]\n",
    "\n",
    "plt.figure(figsize=(8, 6))\n",
    "plt.scatter(attribute_2, attribute_5, marker='o', edgecolors='k', facecolors='none')\n",
    "plt.title('fWidth vs fConc1')\n",
    "plt.xlabel('fWidth')\n",
    "plt.ylabel('fConc1')\n",
    "plt.grid(True)\n",
    "plt.show()"
   ]
  },
  {
   "cell_type": "code",
   "execution_count": null,
   "id": "1bcc80ee-d890-41c6-b3da-df650e2c4690",
   "metadata": {},
   "outputs": [],
   "source": []
  }
 ],
 "metadata": {
  "kernelspec": {
   "display_name": "Python 3 (ipykernel)",
   "language": "python",
   "name": "python3"
  },
  "language_info": {
   "codemirror_mode": {
    "name": "ipython",
    "version": 3
   },
   "file_extension": ".py",
   "mimetype": "text/x-python",
   "name": "python",
   "nbconvert_exporter": "python",
   "pygments_lexer": "ipython3",
   "version": "3.11.7"
  }
 },
 "nbformat": 4,
 "nbformat_minor": 5
}
