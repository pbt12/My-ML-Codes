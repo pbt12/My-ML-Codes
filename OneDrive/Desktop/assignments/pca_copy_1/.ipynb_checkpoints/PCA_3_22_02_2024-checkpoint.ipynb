{
 "cells": [
  {
   "cell_type": "markdown",
   "id": "d07fefb5-4927-4e92-af28-66b654eab108",
   "metadata": {},
   "source": [
    "## Loading Libraries and Dataset"
   ]
  },
  {
   "cell_type": "code",
   "execution_count": 1,
   "id": "ba09145c-447e-4139-9608-0f39b9ed9bec",
   "metadata": {},
   "outputs": [],
   "source": [
    "import warnings\n",
    "warnings.filterwarnings('ignore')\n",
    "\n",
    "import numpy as np\n",
    "import pandas as pd"
   ]
  },
  {
   "cell_type": "code",
   "execution_count": 2,
   "id": "4b5c7749-2db4-4955-b048-fd8c40dfbf9c",
   "metadata": {},
   "outputs": [
    {
     "data": {
      "text/html": [
       "<div>\n",
       "<style scoped>\n",
       "    .dataframe tbody tr th:only-of-type {\n",
       "        vertical-align: middle;\n",
       "    }\n",
       "\n",
       "    .dataframe tbody tr th {\n",
       "        vertical-align: top;\n",
       "    }\n",
       "\n",
       "    .dataframe thead th {\n",
       "        text-align: right;\n",
       "    }\n",
       "</style>\n",
       "<table border=\"1\" class=\"dataframe\">\n",
       "  <thead>\n",
       "    <tr style=\"text-align: right;\">\n",
       "      <th></th>\n",
       "      <th>fLength</th>\n",
       "      <th>fWidth</th>\n",
       "      <th>fSize</th>\n",
       "      <th>fConc</th>\n",
       "      <th>fConc1</th>\n",
       "      <th>fAsym</th>\n",
       "      <th>fM3Long</th>\n",
       "      <th>fM3Trans</th>\n",
       "      <th>fAlpha</th>\n",
       "      <th>fDist</th>\n",
       "      <th>class</th>\n",
       "    </tr>\n",
       "  </thead>\n",
       "  <tbody>\n",
       "    <tr>\n",
       "      <th>0</th>\n",
       "      <td>28.7967</td>\n",
       "      <td>16.0021</td>\n",
       "      <td>2.6449</td>\n",
       "      <td>0.3918</td>\n",
       "      <td>0.1982</td>\n",
       "      <td>27.7004</td>\n",
       "      <td>22.0110</td>\n",
       "      <td>-8.2027</td>\n",
       "      <td>40.0920</td>\n",
       "      <td>81.8828</td>\n",
       "      <td>g</td>\n",
       "    </tr>\n",
       "    <tr>\n",
       "      <th>1</th>\n",
       "      <td>31.6036</td>\n",
       "      <td>11.7235</td>\n",
       "      <td>2.5185</td>\n",
       "      <td>0.5303</td>\n",
       "      <td>0.3773</td>\n",
       "      <td>26.2722</td>\n",
       "      <td>23.8238</td>\n",
       "      <td>-9.9574</td>\n",
       "      <td>6.3609</td>\n",
       "      <td>205.2610</td>\n",
       "      <td>g</td>\n",
       "    </tr>\n",
       "    <tr>\n",
       "      <th>2</th>\n",
       "      <td>162.0520</td>\n",
       "      <td>136.0310</td>\n",
       "      <td>4.0612</td>\n",
       "      <td>0.0374</td>\n",
       "      <td>0.0187</td>\n",
       "      <td>116.7410</td>\n",
       "      <td>-64.8580</td>\n",
       "      <td>-45.2160</td>\n",
       "      <td>76.9600</td>\n",
       "      <td>256.7880</td>\n",
       "      <td>g</td>\n",
       "    </tr>\n",
       "    <tr>\n",
       "      <th>3</th>\n",
       "      <td>23.8172</td>\n",
       "      <td>9.5728</td>\n",
       "      <td>2.3385</td>\n",
       "      <td>0.6147</td>\n",
       "      <td>0.3922</td>\n",
       "      <td>27.2107</td>\n",
       "      <td>-6.4633</td>\n",
       "      <td>-7.1513</td>\n",
       "      <td>10.4490</td>\n",
       "      <td>116.7370</td>\n",
       "      <td>g</td>\n",
       "    </tr>\n",
       "    <tr>\n",
       "      <th>4</th>\n",
       "      <td>75.1362</td>\n",
       "      <td>30.9205</td>\n",
       "      <td>3.1611</td>\n",
       "      <td>0.3168</td>\n",
       "      <td>0.1832</td>\n",
       "      <td>-5.5277</td>\n",
       "      <td>28.5525</td>\n",
       "      <td>21.8393</td>\n",
       "      <td>4.6480</td>\n",
       "      <td>356.4620</td>\n",
       "      <td>g</td>\n",
       "    </tr>\n",
       "  </tbody>\n",
       "</table>\n",
       "</div>"
      ],
      "text/plain": [
       "    fLength    fWidth   fSize   fConc  fConc1     fAsym  fM3Long  fM3Trans  \\\n",
       "0   28.7967   16.0021  2.6449  0.3918  0.1982   27.7004  22.0110   -8.2027   \n",
       "1   31.6036   11.7235  2.5185  0.5303  0.3773   26.2722  23.8238   -9.9574   \n",
       "2  162.0520  136.0310  4.0612  0.0374  0.0187  116.7410 -64.8580  -45.2160   \n",
       "3   23.8172    9.5728  2.3385  0.6147  0.3922   27.2107  -6.4633   -7.1513   \n",
       "4   75.1362   30.9205  3.1611  0.3168  0.1832   -5.5277  28.5525   21.8393   \n",
       "\n",
       "    fAlpha     fDist class  \n",
       "0  40.0920   81.8828     g  \n",
       "1   6.3609  205.2610     g  \n",
       "2  76.9600  256.7880     g  \n",
       "3  10.4490  116.7370     g  \n",
       "4   4.6480  356.4620     g  "
      ]
     },
     "execution_count": 2,
     "metadata": {},
     "output_type": "execute_result"
    }
   ],
   "source": [
    "data = pd.read_csv('./telescope_data.csv')\n",
    "data.head()"
   ]
  },
  {
   "cell_type": "code",
   "execution_count": 3,
   "id": "be191646-5932-4fa3-9898-ded75f9c64c6",
   "metadata": {},
   "outputs": [],
   "source": [
    "X = data[['fLength', 'fWidth', 'fSize', 'fConc', 'fConc1', 'fAsym', 'fM3Long','fM3Trans', 'fAlpha', 'fDist']]\n",
    "y = data['class']"
   ]
  },
  {
   "cell_type": "code",
   "execution_count": 4,
   "id": "5635a44f-6c5d-4628-aa07-10d56393a633",
   "metadata": {},
   "outputs": [
    {
     "data": {
      "text/html": [
       "<div>\n",
       "<style scoped>\n",
       "    .dataframe tbody tr th:only-of-type {\n",
       "        vertical-align: middle;\n",
       "    }\n",
       "\n",
       "    .dataframe tbody tr th {\n",
       "        vertical-align: top;\n",
       "    }\n",
       "\n",
       "    .dataframe thead th {\n",
       "        text-align: right;\n",
       "    }\n",
       "</style>\n",
       "<table border=\"1\" class=\"dataframe\">\n",
       "  <thead>\n",
       "    <tr style=\"text-align: right;\">\n",
       "      <th></th>\n",
       "      <th>fLength</th>\n",
       "      <th>fWidth</th>\n",
       "      <th>fSize</th>\n",
       "      <th>fConc</th>\n",
       "      <th>fConc1</th>\n",
       "      <th>fAsym</th>\n",
       "      <th>fM3Long</th>\n",
       "      <th>fM3Trans</th>\n",
       "      <th>fAlpha</th>\n",
       "      <th>fDist</th>\n",
       "    </tr>\n",
       "  </thead>\n",
       "  <tbody>\n",
       "    <tr>\n",
       "      <th>174</th>\n",
       "      <td>21.7326</td>\n",
       "      <td>13.4041</td>\n",
       "      <td>2.5937</td>\n",
       "      <td>0.5007</td>\n",
       "      <td>0.2804</td>\n",
       "      <td>-1.2331</td>\n",
       "      <td>11.1855</td>\n",
       "      <td>12.8278</td>\n",
       "      <td>63.3021</td>\n",
       "      <td>197.2071</td>\n",
       "    </tr>\n",
       "    <tr>\n",
       "      <th>5</th>\n",
       "      <td>51.6240</td>\n",
       "      <td>21.1502</td>\n",
       "      <td>2.9085</td>\n",
       "      <td>0.2420</td>\n",
       "      <td>0.1340</td>\n",
       "      <td>50.8761</td>\n",
       "      <td>43.1887</td>\n",
       "      <td>9.8145</td>\n",
       "      <td>3.6130</td>\n",
       "      <td>238.0980</td>\n",
       "    </tr>\n",
       "    <tr>\n",
       "      <th>126</th>\n",
       "      <td>21.8730</td>\n",
       "      <td>9.5970</td>\n",
       "      <td>2.4330</td>\n",
       "      <td>0.6199</td>\n",
       "      <td>0.3118</td>\n",
       "      <td>-28.7790</td>\n",
       "      <td>12.6661</td>\n",
       "      <td>-4.9996</td>\n",
       "      <td>80.3279</td>\n",
       "      <td>67.0253</td>\n",
       "    </tr>\n",
       "    <tr>\n",
       "      <th>117</th>\n",
       "      <td>25.9270</td>\n",
       "      <td>12.5140</td>\n",
       "      <td>2.5933</td>\n",
       "      <td>0.5867</td>\n",
       "      <td>0.4171</td>\n",
       "      <td>-8.1876</td>\n",
       "      <td>-23.2960</td>\n",
       "      <td>8.8858</td>\n",
       "      <td>74.1890</td>\n",
       "      <td>226.5150</td>\n",
       "    </tr>\n",
       "    <tr>\n",
       "      <th>73</th>\n",
       "      <td>23.6353</td>\n",
       "      <td>11.4736</td>\n",
       "      <td>2.4661</td>\n",
       "      <td>0.6291</td>\n",
       "      <td>0.4085</td>\n",
       "      <td>-15.6487</td>\n",
       "      <td>-18.8315</td>\n",
       "      <td>-9.9017</td>\n",
       "      <td>43.5650</td>\n",
       "      <td>194.3840</td>\n",
       "    </tr>\n",
       "  </tbody>\n",
       "</table>\n",
       "</div>"
      ],
      "text/plain": [
       "     fLength   fWidth   fSize   fConc  fConc1    fAsym  fM3Long  fM3Trans  \\\n",
       "174  21.7326  13.4041  2.5937  0.5007  0.2804  -1.2331  11.1855   12.8278   \n",
       "5    51.6240  21.1502  2.9085  0.2420  0.1340  50.8761  43.1887    9.8145   \n",
       "126  21.8730   9.5970  2.4330  0.6199  0.3118 -28.7790  12.6661   -4.9996   \n",
       "117  25.9270  12.5140  2.5933  0.5867  0.4171  -8.1876 -23.2960    8.8858   \n",
       "73   23.6353  11.4736  2.4661  0.6291  0.4085 -15.6487 -18.8315   -9.9017   \n",
       "\n",
       "      fAlpha     fDist  \n",
       "174  63.3021  197.2071  \n",
       "5     3.6130  238.0980  \n",
       "126  80.3279   67.0253  \n",
       "117  74.1890  226.5150  \n",
       "73   43.5650  194.3840  "
      ]
     },
     "execution_count": 4,
     "metadata": {},
     "output_type": "execute_result"
    }
   ],
   "source": [
    "from sklearn.model_selection import train_test_split\n",
    "\n",
    "X_train, X_test, y_train, y_test = train_test_split(X, y, test_size=0.25, random_state=42)\n",
    "X_train.head()"
   ]
  },
  {
   "cell_type": "markdown",
   "id": "ba634393-0745-4008-b753-269483ee0011",
   "metadata": {},
   "source": [
    "# Part 1: Principal Component Analysis (PCA)"
   ]
  },
  {
   "cell_type": "markdown",
   "id": "5623b374-4819-4873-945a-6cd949a02d90",
   "metadata": {},
   "source": [
    "## Implement PCA from Scratch:"
   ]
  },
  {
   "cell_type": "code",
   "execution_count": 5,
   "id": "f4140d0a-b625-4824-a1c4-3155520793ab",
   "metadata": {},
   "outputs": [],
   "source": [
    "train_data_mean = X_train.mean()"
   ]
  },
  {
   "cell_type": "code",
   "execution_count": 37,
   "id": "0a5218bf-657f-4018-b0e3-b9cb17e6aeb0",
   "metadata": {},
   "outputs": [],
   "source": [
    "def calc_cov_mat(data):\n",
    "    '''\n",
    "    This function calculates the covariance matrix of the data.\n",
    "    \n",
    "    The covariance matrix is computed using the formula:\n",
    "    \n",
    "    cov(X, Y) = Σ((X_i - mean(X)) * (Y_i - mean(Y))) / (n - 1)\n",
    "\n",
    "    Here X, Y are two columns of the data\n",
    "    '''\n",
    "    n_samples, n_features = data.shape\n",
    "    mean = np.mean(data, axis=0)\n",
    "    covariance_matrix = np.zeros((n_features, n_features))\n",
    "    \n",
    "    for i in range(n_features):\n",
    "        for j in range(n_features):\n",
    "            covariance_matrix[i, j] = np.sum((data.iloc[:, i] - mean[i]) * (data.iloc[:, j] - mean[j])) / (n_samples - 1)\n",
    "    \n",
    "    return covariance_matrix"
   ]
  },
  {
   "cell_type": "code",
   "execution_count": 38,
   "id": "eb8c3cff-d77b-40a4-9cce-dd88b135cde3",
   "metadata": {},
   "outputs": [],
   "source": [
    "def eigen_values_and_vectors(covariance_matrix):\n",
    "    '''\n",
    "    Calculate the eigenvalues and eigenvectors of the covariance matrix.\n",
    "\n",
    "\n",
    "    The eigenvalues and eigenvectors of the covariance matrix are computed using numpy's eigh function.\n",
    "    '''\n",
    "    eigenvalues, eigenvectors = np.linalg.eigh(covariance_matrix)\n",
    "    # Sort eigenvalues and eigenvectors\n",
    "    idx = eigenvalues.argsort()[::-1]\n",
    "    eigenvalues = eigenvalues[idx]\n",
    "    eigenvectors = eigenvectors[:, idx]\n",
    "    \n",
    "    return eigenvalues, eigenvectors"
   ]
  },
  {
   "cell_type": "markdown",
   "id": "083e0143-d385-45e4-9bf2-02c69e60251e",
   "metadata": {},
   "source": [
    "## PART 1.1 a, b, c)"
   ]
  },
  {
   "cell_type": "code",
   "execution_count": 39,
   "id": "1f56280e-511b-4e06-af52-d5dd1ee1ae9a",
   "metadata": {},
   "outputs": [
    {
     "name": "stdout",
     "output_type": "stream",
     "text": [
      "Using custom PCA number of components to retain 96% of the data is: 5\n"
     ]
    }
   ],
   "source": [
    "def custom_pca(data, variance_retained=0.96):\n",
    "    '''\n",
    "    Custom pca function, that takes in data as input\n",
    "    And by default retunrs the eigen vectors whcih retain 96% variance, also number of components that retaines this variance\n",
    "    '''\n",
    "    covariance_matrix = calc_cov_mat(data)\n",
    "    eigenvalues, eigenvectors = eigen_values_and_vectors(covariance_matrix)\n",
    "    \n",
    "    # Sort eigenvalues in decreasing order\n",
    "    idx = np.argsort(eigenvalues)[::-1]\n",
    "    eigenvalues = eigenvalues[idx]\n",
    "    eigenvectors = eigenvectors[:, idx]\n",
    "    \n",
    "    # Calculate cumulative explained variance\n",
    "    explained_variance = np.cumsum(eigenvalues) / np.sum(eigenvalues)\n",
    "    \n",
    "    # Find the number of components that explain the specified variance\n",
    "    n_components = np.argmax(explained_variance >= variance_retained) + 1\n",
    "    \n",
    "    # Choose the top n_components eigenvectors\n",
    "    top_eigenvectors = eigenvectors[:, :n_components]\n",
    "    \n",
    "    # here we are transforming the data\n",
    "    transformed_data = np.dot(data, top_eigenvectors)\n",
    "\n",
    "    # Return the number of components and the transformed data\n",
    "    return transformed_data, n_components, top_eigenvectors\n",
    "\n",
    "# First lets center the data\n",
    "X_train = X_train - train_data_mean\n",
    "\n",
    "pca_train, n_components, pca_eigenvectors = custom_pca(X_train)\n",
    "print(f'Using custom PCA number of components to retain 96% of the data is: {n_components}')"
   ]
  },
  {
   "cell_type": "markdown",
   "id": "e72cbbf5-5795-419b-bc63-6fc0304ce59f",
   "metadata": {},
   "source": [
    "## Part 1.2 A and B:"
   ]
  },
  {
   "cell_type": "code",
   "execution_count": 10,
   "id": "e02ca2a3-fb45-4a68-b778-17d4768a5e9c",
   "metadata": {},
   "outputs": [
    {
     "name": "stdout",
     "output_type": "stream",
     "text": [
      "Total variance retained by the selected components: 0.9678398099074477\n"
     ]
    }
   ],
   "source": [
    "from sklearn.decomposition import PCA\n",
    "\n",
    "# Perform PCA using scikit-learn\n",
    "pca = PCA(n_components=5)\n",
    "transformed_data_sklearn_pca = pca.fit_transform(X_train)\n",
    "\n",
    "total_variance_retained = sum(pca.explained_variance_ratio_)\n",
    "print(\"Total variance retained by the selected components:\", total_variance_retained)"
   ]
  },
  {
   "cell_type": "code",
   "execution_count": 12,
   "id": "4b68dc02-f14d-4481-b885-c46361957c6c",
   "metadata": {},
   "outputs": [
    {
     "data": {
      "text/html": [
       "<div>\n",
       "<style scoped>\n",
       "    .dataframe tbody tr th:only-of-type {\n",
       "        vertical-align: middle;\n",
       "    }\n",
       "\n",
       "    .dataframe tbody tr th {\n",
       "        vertical-align: top;\n",
       "    }\n",
       "\n",
       "    .dataframe thead th {\n",
       "        text-align: right;\n",
       "    }\n",
       "</style>\n",
       "<table border=\"1\" class=\"dataframe\">\n",
       "  <thead>\n",
       "    <tr style=\"text-align: right;\">\n",
       "      <th></th>\n",
       "      <th>0</th>\n",
       "      <th>1</th>\n",
       "      <th>2</th>\n",
       "      <th>3</th>\n",
       "      <th>4</th>\n",
       "    </tr>\n",
       "  </thead>\n",
       "  <tbody>\n",
       "    <tr>\n",
       "      <th>0</th>\n",
       "      <td>205.349315</td>\n",
       "      <td>-74.293324</td>\n",
       "      <td>-35.248260</td>\n",
       "      <td>40.508526</td>\n",
       "      <td>20.201363</td>\n",
       "    </tr>\n",
       "    <tr>\n",
       "      <th>1</th>\n",
       "      <td>164.404837</td>\n",
       "      <td>-20.360955</td>\n",
       "      <td>-73.087576</td>\n",
       "      <td>6.222089</td>\n",
       "      <td>71.082069</td>\n",
       "    </tr>\n",
       "    <tr>\n",
       "      <th>2</th>\n",
       "      <td>317.908686</td>\n",
       "      <td>-140.212896</td>\n",
       "      <td>-22.596823</td>\n",
       "      <td>11.619184</td>\n",
       "      <td>15.455619</td>\n",
       "    </tr>\n",
       "    <tr>\n",
       "      <th>3</th>\n",
       "      <td>184.813133</td>\n",
       "      <td>-60.454941</td>\n",
       "      <td>-2.633401</td>\n",
       "      <td>62.054433</td>\n",
       "      <td>11.930742</td>\n",
       "    </tr>\n",
       "    <tr>\n",
       "      <th>4</th>\n",
       "      <td>208.699977</td>\n",
       "      <td>-79.042289</td>\n",
       "      <td>-5.995054</td>\n",
       "      <td>55.538085</td>\n",
       "      <td>45.166824</td>\n",
       "    </tr>\n",
       "  </tbody>\n",
       "</table>\n",
       "</div>"
      ],
      "text/plain": [
       "            0           1          2          3          4\n",
       "0  205.349315  -74.293324 -35.248260  40.508526  20.201363\n",
       "1  164.404837  -20.360955 -73.087576   6.222089  71.082069\n",
       "2  317.908686 -140.212896 -22.596823  11.619184  15.455619\n",
       "3  184.813133  -60.454941  -2.633401  62.054433  11.930742\n",
       "4  208.699977  -79.042289  -5.995054  55.538085  45.166824"
      ]
     },
     "execution_count": 12,
     "metadata": {},
     "output_type": "execute_result"
    }
   ],
   "source": [
    "pd.DataFrame(pca_train).head()"
   ]
  },
  {
   "cell_type": "code",
   "execution_count": 13,
   "id": "f1b4f626-0813-4d6b-90bd-ff1a73935ae7",
   "metadata": {},
   "outputs": [
    {
     "data": {
      "text/html": [
       "<div>\n",
       "<style scoped>\n",
       "    .dataframe tbody tr th:only-of-type {\n",
       "        vertical-align: middle;\n",
       "    }\n",
       "\n",
       "    .dataframe tbody tr th {\n",
       "        vertical-align: top;\n",
       "    }\n",
       "\n",
       "    .dataframe thead th {\n",
       "        text-align: right;\n",
       "    }\n",
       "</style>\n",
       "<table border=\"1\" class=\"dataframe\">\n",
       "  <thead>\n",
       "    <tr style=\"text-align: right;\">\n",
       "      <th></th>\n",
       "      <th>0</th>\n",
       "      <th>1</th>\n",
       "      <th>2</th>\n",
       "      <th>3</th>\n",
       "      <th>4</th>\n",
       "    </tr>\n",
       "  </thead>\n",
       "  <tbody>\n",
       "    <tr>\n",
       "      <th>0</th>\n",
       "      <td>-12.416590</td>\n",
       "      <td>-6.215763</td>\n",
       "      <td>-13.348081</td>\n",
       "      <td>-33.572939</td>\n",
       "      <td>30.389332</td>\n",
       "    </tr>\n",
       "    <tr>\n",
       "      <th>1</th>\n",
       "      <td>28.527888</td>\n",
       "      <td>47.716606</td>\n",
       "      <td>-51.187396</td>\n",
       "      <td>0.713498</td>\n",
       "      <td>-20.491373</td>\n",
       "    </tr>\n",
       "    <tr>\n",
       "      <th>2</th>\n",
       "      <td>-124.975960</td>\n",
       "      <td>-72.135335</td>\n",
       "      <td>-0.696644</td>\n",
       "      <td>-4.683597</td>\n",
       "      <td>35.135076</td>\n",
       "    </tr>\n",
       "    <tr>\n",
       "      <th>3</th>\n",
       "      <td>8.119592</td>\n",
       "      <td>7.622620</td>\n",
       "      <td>19.266779</td>\n",
       "      <td>-55.118846</td>\n",
       "      <td>38.659953</td>\n",
       "    </tr>\n",
       "    <tr>\n",
       "      <th>4</th>\n",
       "      <td>-15.767251</td>\n",
       "      <td>-10.964728</td>\n",
       "      <td>15.905126</td>\n",
       "      <td>-48.602498</td>\n",
       "      <td>5.423872</td>\n",
       "    </tr>\n",
       "  </tbody>\n",
       "</table>\n",
       "</div>"
      ],
      "text/plain": [
       "            0          1          2          3          4\n",
       "0  -12.416590  -6.215763 -13.348081 -33.572939  30.389332\n",
       "1   28.527888  47.716606 -51.187396   0.713498 -20.491373\n",
       "2 -124.975960 -72.135335  -0.696644  -4.683597  35.135076\n",
       "3    8.119592   7.622620  19.266779 -55.118846  38.659953\n",
       "4  -15.767251 -10.964728  15.905126 -48.602498   5.423872"
      ]
     },
     "execution_count": 13,
     "metadata": {},
     "output_type": "execute_result"
    }
   ],
   "source": [
    "pd.DataFrame(transformed_data_sklearn_pca).head()"
   ]
  },
  {
   "cell_type": "markdown",
   "id": "91c418b5-3143-427a-b730-73dae16b9a97",
   "metadata": {},
   "source": [
    "### Sklearn PCA vs custom PCA:\n",
    "\n",
    "We can see that both our own implementation, and sklearn pca returned the same number of components, but sklearn's PCA feature set has the datapoints more or less in the same range, but in our case, some values are too high, while some others are too low. Differetn components are in varying ranges."
   ]
  },
  {
   "cell_type": "markdown",
   "id": "74618cc7-0d73-4063-bc87-8e360e9fc257",
   "metadata": {},
   "source": [
    "# Part 2: Kernel PCA (KPCA)"
   ]
  },
  {
   "cell_type": "code",
   "execution_count": 14,
   "id": "b7826203-77e4-424d-8c95-df02b621b13b",
   "metadata": {},
   "outputs": [],
   "source": [
    "# Here we are defining the parameters that we will be using in further codes\n",
    "\n",
    "gamma = 1.0\n",
    "degree = 3\n",
    "coef0 = 1\n",
    "n_components = 5"
   ]
  },
  {
   "cell_type": "markdown",
   "id": "3d9a0735-2803-4b91-96e3-8e2da5b83b91",
   "metadata": {},
   "source": [
    "## Part 2.1 KPCA with RBF Kernel:"
   ]
  },
  {
   "cell_type": "code",
   "execution_count": 40,
   "id": "9084bae9-0931-4740-b943-3055a56fc50f",
   "metadata": {},
   "outputs": [],
   "source": [
    "def rbf_kernel(X1, X2):\n",
    "    '''\n",
    "    Compute the Radial Basis Function (RBF) kernel matrix.\n",
    "    The RBF kernel matrix K is computed as:\n",
    "    K[i, j] = exp(-gamma * ||X1[i] - X2[j]||^2)\n",
    "\n",
    "    where:\n",
    "    - X1 and X2 are sets of data points,\n",
    "    - gamma is the kernel parameter, and\n",
    "    - ||.|| denotes the Euclidean norm.\n",
    "    '''\n",
    "    n_samples_X1 = X1.shape[0]\n",
    "    n_samples_X2 = X2.shape[0]\n",
    "    K = np.zeros((n_samples_X1, n_samples_X2))\n",
    "    for i in range(n_samples_X1):\n",
    "        for j in range(n_samples_X2):\n",
    "            K[i, j] = np.exp(-gamma * np.linalg.norm(X1[i] - X2[j])**2)\n",
    "    return K"
   ]
  },
  {
   "cell_type": "code",
   "execution_count": 41,
   "id": "7e899bd3-2c7f-4abe-b0e2-98f0511272ee",
   "metadata": {},
   "outputs": [],
   "source": [
    "def kpca_rbf(X):\n",
    "    \"\"\"\n",
    "    Perform Kernel PCA with the Radial Basis Function (RBF) kernel.\n",
    "\n",
    "    This function computes the RBF kernel matrix for the input data, centers the kernel matrix, computes the eigenvalues and eigenvectors of the centered kernel matrix, selects the top n_components eigenvectors, and finally transforms the data.\n",
    "\n",
    "    The eigenvectors are sorted in descending order based on the corresponding eigenvalues.\n",
    "    \"\"\"\n",
    "    # Compute the RBF kernel matrix\n",
    "    K = rbf_kernel(X, X)\n",
    "    \n",
    "    n_samples = K.shape[0]\n",
    "\n",
    "    # Center the kernel matrix\n",
    "    one_n = np.ones((n_samples, n_samples)) / n_samples\n",
    "    K_centered = K - one_n.dot(K) - K.dot(one_n) + one_n.dot(K).dot(one_n)\n",
    "    \n",
    "    # Compute eigenvalues and eigenvectors of the centered kernel matrix\n",
    "    eigenvalues, eigenvectors = np.linalg.eigh(K_centered)\n",
    "    idx = eigenvalues.argsort()[::-1]\n",
    "    eigenvalues = eigenvalues[idx]\n",
    "    eigenvectors = eigenvectors[:, idx]\n",
    "    \n",
    "    # Choose top n_components eigenvectors\n",
    "    alphas = eigenvectors[:, :n_components]\n",
    "    \n",
    "    # Transform the data\n",
    "    transformed_data = np.dot(K_centered, alphas)\n",
    "    \n",
    "    return transformed_data, alphas\n"
   ]
  },
  {
   "cell_type": "code",
   "execution_count": 17,
   "id": "5846ec09-b032-41af-9313-9c8d6a5243b0",
   "metadata": {},
   "outputs": [],
   "source": [
    "rbf_train, rbf_eigenvectors = kpca_rbf(X_train.values)"
   ]
  },
  {
   "cell_type": "markdown",
   "id": "33f919c9-2f60-4743-9031-ab97f735053d",
   "metadata": {},
   "source": [
    "## Part 2.2: KPCA with Polynomial Kernel"
   ]
  },
  {
   "cell_type": "code",
   "execution_count": 42,
   "id": "fb6c691f-dc88-409a-84b0-3ea40c35e73f",
   "metadata": {},
   "outputs": [],
   "source": [
    "def polynomial_kernel(X1, X2):\n",
    "    \"\"\"\n",
    "    Compute the Polynomial kernel matrix.\n",
    "    The Polynomial kernel matrix K is computed as:\n",
    "    K[i, j] = (dot(X1[i], X2[j].T) + coef0) ** degree\n",
    "    where:\n",
    "    - X1 and X2 are sets of data points,\n",
    "    - degree is the degree of the polynomial kernel, and\n",
    "    - coef0 is the independent term in the polynomial kernel.\n",
    "    \"\"\"\n",
    "    K = (np.dot(X1, X2.T) + coef0) ** degree\n",
    "    return K\n"
   ]
  },
  {
   "cell_type": "code",
   "execution_count": 43,
   "id": "52025fad-6c0c-40c0-9ebe-3fc68887f965",
   "metadata": {},
   "outputs": [],
   "source": [
    "def kpca_polynomial(X):\n",
    "    \n",
    "    \"\"\"\n",
    "    Perform Kernel PCA with the Polynomial kernel.\n",
    "    This function computes the Polynomial kernel matrix for the input data, centers the kernel matrix, \n",
    "    computes the eigenvalues and eigenvectors of the centered kernel matrix, selects the top n_components eigenvectors, \n",
    "    and finally transforms the data.\n",
    "\n",
    "    The Polynomial kernel matrix K is computed as:\n",
    "    K[i, j] = (dot(X[i], X[j].T) + coef0) ** degree\n",
    "\n",
    "    where:\n",
    "    - X is the input data,\n",
    "    - degree is the degree of the polynomial kernel,\n",
    "    - coef0 is the independent term in the polynomial kernel.\n",
    "\n",
    "    The eigenvectors are sorted in descending order based on the corresponding eigenvalues.\n",
    "    \"\"\"\n",
    "    K = polynomial_kernel(X,X)\n",
    "    \n",
    "    n_samples = K.shape[0]\n",
    "\n",
    "    # Center the kernel matrix\n",
    "    one_n = np.ones((n_samples, n_samples)) / n_samples\n",
    "    K_centered = K - one_n.dot(K) - K.dot(one_n) + one_n.dot(K).dot(one_n)\n",
    "    \n",
    "    # Compute eigenvalues and eigenvectors of the centered kernel matrix\n",
    "    eigenvalues, eigenvectors = np.linalg.eigh(K_centered)\n",
    "    idx = eigenvalues.argsort()[::-1]\n",
    "    eigenvalues = eigenvalues[idx]\n",
    "    eigenvectors = eigenvectors[:, idx]\n",
    "    \n",
    "    # Choose top n_components eigenvectors\n",
    "    alphas = eigenvectors[:, :n_components]\n",
    "    \n",
    "    # Transform the data\n",
    "    transformed_data = np.dot(K_centered, alphas)\n",
    "    \n",
    "    return transformed_data, alphas\n"
   ]
  },
  {
   "cell_type": "code",
   "execution_count": 21,
   "id": "59e3fa8f-ef23-4c63-942a-9d1dd1badf24",
   "metadata": {},
   "outputs": [],
   "source": [
    "poly_train, poly_eigenvectors = kpca_polynomial(X_train.values)"
   ]
  },
  {
   "cell_type": "markdown",
   "id": "e407a66f-8613-4b77-936e-fd531ce30fbf",
   "metadata": {},
   "source": [
    "## Part 2.3 KPCA with Linear Kernel:"
   ]
  },
  {
   "cell_type": "code",
   "execution_count": 46,
   "id": "6327fb7d-56b6-4ccb-b872-264aab68bae7",
   "metadata": {},
   "outputs": [],
   "source": [
    "def linear_kernel(X1, X2):\n",
    "    \"\"\"\n",
    "    Compute the Linear kernel matrix.\n",
    "    The Linear kernel matrix K is computed as:\n",
    "    K[i, j] = dot(X1[i], X2[j].T)\n",
    "    where:\n",
    "    - X1 and X2 are sets of data points.\n",
    "    \"\"\"\n",
    "    K = np.dot(X1, X2.T)\n",
    "    return K"
   ]
  },
  {
   "cell_type": "code",
   "execution_count": 47,
   "id": "d3284f57-aa3a-456b-93d4-88cd676aef49",
   "metadata": {},
   "outputs": [],
   "source": [
    "def kpca_linear(X):\n",
    "    \"\"\"\n",
    "    Perform Kernel PCA with the Linear kernel.\n",
    "\n",
    "    This function computes the Linear kernel matrix for the input data, centers the kernel matrix, \n",
    "    computes the eigenvalues and eigenvectors of the centered kernel matrix, selects the top n_components eigenvectors, \n",
    "    and finally transforms the data.\n",
    "\n",
    "    The Linear kernel matrix K is computed as:\n",
    "    K[i, j] = dot(X[i], X[j].T)\n",
    "    where:\n",
    "    - X is the input data.\n",
    "\n",
    "    The eigenvectors are sorted in descending order based on the corresponding eigenvalues.\n",
    "    \"\"\"\n",
    "    K = linear_kernel(X,X)\n",
    "    \n",
    "    n_samples = K.shape[0]\n",
    "\n",
    "    # Center the kernel matrix\n",
    "    one_n = np.ones((n_samples, n_samples)) / n_samples\n",
    "    K_centered = K - one_n.dot(K) - K.dot(one_n) + one_n.dot(K).dot(one_n)\n",
    "    \n",
    "    # Compute eigenvalues and eigenvectors of the centered kernel matrix\n",
    "    eigenvalues, eigenvectors = np.linalg.eigh(K_centered)\n",
    "    idx = eigenvalues.argsort()[::-1]\n",
    "    eigenvalues = eigenvalues[idx]\n",
    "    eigenvectors = eigenvectors[:, idx]\n",
    "    \n",
    "    # Choose top n_components eigenvectors\n",
    "    alphas = eigenvectors[:, :n_components]\n",
    "    \n",
    "    # Transform the data\n",
    "    transformed_data = np.dot(K_centered, alphas)\n",
    "    \n",
    "    return transformed_data, alphas\n"
   ]
  },
  {
   "cell_type": "code",
   "execution_count": 25,
   "id": "7ec65f4a-b239-4a0a-8a2a-3b338644efa9",
   "metadata": {},
   "outputs": [],
   "source": [
    "linear_train, linear_eigenvectors = kpca_linear(X_train.values)"
   ]
  },
  {
   "cell_type": "markdown",
   "id": "d5b8b097-21f3-471c-bacd-aa5c7aa50bb4",
   "metadata": {},
   "source": [
    "# Part 3: Testing and Evaluation"
   ]
  },
  {
   "cell_type": "code",
   "execution_count": 26,
   "id": "5ab0debb-9c8b-48c9-9eb2-9cb03ff7d8d1",
   "metadata": {},
   "outputs": [],
   "source": [
    "# Lets center the test data using train data's mean to maintain consistency of the data\n",
    "\n",
    "X_test = X_test - train_data_mean"
   ]
  },
  {
   "cell_type": "code",
   "execution_count": 27,
   "id": "f3eafe8e-4254-4f3c-b531-184934ba7b3c",
   "metadata": {},
   "outputs": [],
   "source": [
    "X_test_values = X_test.values\n",
    "X_train_values = X_train.values"
   ]
  },
  {
   "cell_type": "markdown",
   "id": "b7e4cad0-ef1a-4086-8e3f-b9d726a0e37c",
   "metadata": {},
   "source": [
    "## 3.1 Applying PCA and KPCA to the Test Dataset:"
   ]
  },
  {
   "cell_type": "code",
   "execution_count": 48,
   "id": "d4558a1d-b83b-4bc8-b9a8-40b2a065c256",
   "metadata": {},
   "outputs": [],
   "source": [
    "# we now tranform the test data, by projecting the test data's kernel on the respective eigen vectors"
   ]
  },
  {
   "cell_type": "code",
   "execution_count": 28,
   "id": "aa0447e9-aaca-463f-8acf-e6a5bcc6efac",
   "metadata": {},
   "outputs": [],
   "source": [
    "transformed_test_pca = np.dot(X_test, pca_eigenvectors)"
   ]
  },
  {
   "cell_type": "code",
   "execution_count": 29,
   "id": "645410cd-2684-4716-a626-1916a6ce4b4d",
   "metadata": {},
   "outputs": [],
   "source": [
    "K_test_rbf = rbf_kernel(X_test_values, X_train_values)\n",
    "transformed_test_rbf = np.dot(K_test_rbf, rbf_eigenvectors)"
   ]
  },
  {
   "cell_type": "code",
   "execution_count": 30,
   "id": "51670266-5f15-48b1-aa17-efd21e449267",
   "metadata": {},
   "outputs": [],
   "source": [
    "K_test_poly = polynomial_kernel(X_test_values, X_train_values)\n",
    "transformed_test_poly = np.dot(K_test_poly, poly_eigenvectors)"
   ]
  },
  {
   "cell_type": "code",
   "execution_count": 31,
   "id": "867ef0c7-704c-4e0e-b22e-3a617ebd8886",
   "metadata": {},
   "outputs": [],
   "source": [
    "K_test_liear = linear_kernel(X_test_values, X_train_values)\n",
    "transformed_test_linear = np.dot(K_test_liear, linear_eigenvectors)"
   ]
  },
  {
   "cell_type": "markdown",
   "id": "e62dfa2c-7d45-47d1-877c-27c9a3ae839d",
   "metadata": {},
   "source": [
    "## 3.2 Classification Experiment:"
   ]
  },
  {
   "cell_type": "code",
   "execution_count": 32,
   "id": "96efa07b-1359-4399-9e2f-6757b81a5e9e",
   "metadata": {},
   "outputs": [],
   "source": [
    "# Function to calculate distance between two points\n",
    "def dis(x1, x2):\n",
    "    return np.linalg.norm(x1 - x2)\n",
    "\n",
    "# Function to perform classification \n",
    "def myclassifier(Train, Trainlabel, Test):\n",
    "    \" Train is the training data\"\n",
    "    \" Trainlabel is the training labels\"\n",
    "    \" Test is the testing data\"\n",
    "    pred = []\n",
    "\n",
    "    for testpoint in Test:\n",
    "        pred_dis = []\n",
    "        for trainpoint in Train:\n",
    "            pred_dis.append(dis(testpoint, trainpoint))\n",
    "\n",
    "        pred.append(Trainlabel[np.argmin(pred_dis)])\n",
    "\n",
    "    return np.array(pred)\n",
    "\n",
    "def calculate_accuracy(true_labels, predicted_labels):\n",
    "    # Ensure that the true labels and predicted labels have the same length\n",
    "    if len(true_labels) != len(predicted_labels):\n",
    "        raise ValueError(\"Length of true_labels and predicted_labels must be the same.\")\n",
    "\n",
    "    # Count the number of correct predictions\n",
    "    correct_predictions = sum(1 for true, predicted in zip(true_labels, predicted_labels) if true == predicted)\n",
    "\n",
    "    # Calculate accuracy as the ratio of correct predictions to total predictions\n",
    "    accuracy = correct_predictions / len(true_labels)\n",
    "\n",
    "    return accuracy"
   ]
  },
  {
   "cell_type": "code",
   "execution_count": 33,
   "id": "6aad2050-09be-4006-908c-0662075d5017",
   "metadata": {},
   "outputs": [
    {
     "name": "stdout",
     "output_type": "stream",
     "text": [
      "Test accuracy using simple pca is: 0.6078431372549019\n"
     ]
    }
   ],
   "source": [
    "pca_pred = myclassifier(pca_train, y_train.values, transformed_test_pca)\n",
    "pca_accuracy = calculate_accuracy(y_test.values, pca_pred)\n",
    "print(f'Test accuracy using simple pca is: {pca_accuracy}')"
   ]
  },
  {
   "cell_type": "code",
   "execution_count": 34,
   "id": "0ab1801f-72b6-4252-ba03-c00ea158f938",
   "metadata": {},
   "outputs": [
    {
     "name": "stdout",
     "output_type": "stream",
     "text": [
      "Test accuracy using rbf kernel is: 0.47058823529411764\n"
     ]
    }
   ],
   "source": [
    "rbf_pred = myclassifier(rbf_train, y_train.values, transformed_test_rbf)\n",
    "rbf_accuracy = calculate_accuracy(y_test.values, rbf_pred)\n",
    "print(f'Test accuracy using rbf kernel is: {rbf_accuracy}')"
   ]
  },
  {
   "cell_type": "code",
   "execution_count": 35,
   "id": "0e00f516-e53b-4cec-9410-7f3c8c0a9756",
   "metadata": {},
   "outputs": [
    {
     "name": "stdout",
     "output_type": "stream",
     "text": [
      "Test accuracy using poly kernel is: 0.4117647058823529\n"
     ]
    }
   ],
   "source": [
    "poly_pred = myclassifier(poly_train, y_train.values, transformed_test_poly)\n",
    "poly_accuracy = calculate_accuracy(y_test.values, poly_pred)\n",
    "print(f'Test accuracy using poly kernel is: {poly_accuracy}')"
   ]
  },
  {
   "cell_type": "code",
   "execution_count": 36,
   "id": "fa6035f3-b250-4239-8747-8f5ada880da7",
   "metadata": {},
   "outputs": [
    {
     "name": "stdout",
     "output_type": "stream",
     "text": [
      "Test accuracy using linear kernel is: 0.6666666666666666\n"
     ]
    }
   ],
   "source": [
    "linear_pred = myclassifier(linear_train, y_train.values, transformed_test_linear)\n",
    "linear_accuracy = calculate_accuracy(y_test.values, linear_pred)\n",
    "print(f'Test accuracy using linear kernel is: {linear_accuracy}')"
   ]
  },
  {
   "cell_type": "code",
   "execution_count": null,
   "id": "78d0d730-306b-4fff-9a35-2a2e2fc3fde6",
   "metadata": {},
   "outputs": [],
   "source": []
  },
  {
   "cell_type": "markdown",
   "id": "78341ef8-df63-49f2-aab4-1f2ca02ce093",
   "metadata": {},
   "source": [
    "# Numerical Analysis & Conclusions:"
   ]
  },
  {
   "cell_type": "markdown",
   "id": "6c773367-cb01-4694-8dc0-f0dfdf461f67",
   "metadata": {},
   "source": [
    "From this assignment, these are my findings:\n",
    "\n",
    "1. our custom pca function are a bit faster than the ones that were calculated from sklearn, but the output transformed data will have differetn columns in different ranges. This might be the case because the data is lower in dimensions, but if the dimensions of the data increases then it might be the case that sklearn  functions might perform faster\n",
    "\n",
    "2. If we observe the accuracies using different transformations, different kernels resulted in different accuracies, which shows that the choice of the kernel effectst the models performance\n",
    "\n",
    "3. Out of all kernel transformation, data obtained with linear kernel transformation achieved an accuracy of 66.67% (good performance), followed by simple pca without kernel with an accuracy of 60.78%, followed by rbf kernel with accuracy of 47.052%, and poly kernel transformed data showed the poor performance out of all.\n",
    "\n",
    "4. Even though we had reduced the number of features we were able to achieve good amount of accuracies (not worst), may be if we had increased number of components to a little more to capture more variance, we might achieve a little higher accuracy. And ofcourse choice of transformation effects the accuracy."
   ]
  },
  {
   "cell_type": "code",
   "execution_count": null,
   "id": "c12a3492-bbbc-4043-bd0d-0292708010bd",
   "metadata": {},
   "outputs": [],
   "source": []
  }
 ],
 "metadata": {
  "kernelspec": {
   "display_name": "Python 3 (ipykernel)",
   "language": "python",
   "name": "python3"
  },
  "language_info": {
   "codemirror_mode": {
    "name": "ipython",
    "version": 3
   },
   "file_extension": ".py",
   "mimetype": "text/x-python",
   "name": "python",
   "nbconvert_exporter": "python",
   "pygments_lexer": "ipython3",
   "version": "3.11.8"
  }
 },
 "nbformat": 4,
 "nbformat_minor": 5
}
