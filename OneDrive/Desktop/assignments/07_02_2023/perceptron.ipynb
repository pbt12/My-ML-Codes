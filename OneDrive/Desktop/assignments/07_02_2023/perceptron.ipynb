{
 "cells": [
  {
   "cell_type": "code",
   "execution_count": 2,
   "id": "2dcae16d-d786-40de-9ab3-4cbc5435e99a",
   "metadata": {},
   "outputs": [],
   "source": [
    "import warnings\n",
    "warnings.filterwarnings('ignore')\n",
    "\n",
    "import pandas as pd\n",
    "import numpy as np\n",
    "import matplotlib.pyplot as plt"
   ]
  },
  {
   "cell_type": "code",
   "execution_count": 4,
   "id": "83bef789-2f2b-4202-8d7c-8707a52d794f",
   "metadata": {},
   "outputs": [],
   "source": [
    "import scipy.io\n",
    "data = scipy.io.loadmat('digits.mat')"
   ]
  },
  {
   "cell_type": "code",
   "execution_count": 6,
   "id": "0f463dc4-5c8f-4918-ab1b-9be5a29bebb9",
   "metadata": {},
   "outputs": [],
   "source": [
    "trainlabels = data['trainlabels']\n",
    "testlabels = data['testlabels']\n",
    "traindata = data['train']\n",
    "testdata = data['test']"
   ]
  },
  {
   "cell_type": "code",
   "execution_count": 13,
   "id": "6545210f-5991-40d0-84a5-0ead4a2b9944",
   "metadata": {},
   "outputs": [],
   "source": [
    "trainlabels = trainlabels.reshape(-1)\n",
    "testlabels = testlabels.reshape(-1)"
   ]
  },
  {
   "cell_type": "code",
   "execution_count": 31,
   "id": "cc7cd8a4-fa75-4d6c-9297-69e77e426758",
   "metadata": {},
   "outputs": [],
   "source": [
    "train_data_reshaped = []\n",
    "\n",
    "for k in range(traindata.shape[1]):\n",
    "    dummy = traindata[:, k]\n",
    "    x = np.zeros((28, 28))\n",
    "    for i in range(28):\n",
    "        for j in range(28):\n",
    "            x[i, j] = dummy[(i * 28) + j]\n",
    "    \n",
    "    train_data_reshaped.append(x.T)\n",
    "\n",
    "train_data_reshaped = np.array(train_data_reshaped)\n",
    "# print(train_data_reshaped)"
   ]
  },
  {
   "cell_type": "code",
   "execution_count": 32,
   "id": "aefa7b52-3d56-4ed7-935a-dfc39c622c10",
   "metadata": {},
   "outputs": [
    {
     "data": {
      "text/plain": [
       "(5000, 28, 28)"
      ]
     },
     "execution_count": 32,
     "metadata": {},
     "output_type": "execute_result"
    }
   ],
   "source": [
    "train_data_reshaped.shape"
   ]
  },
  {
   "cell_type": "code",
   "execution_count": 33,
   "id": "5c656dd3-8af4-4e01-af4d-038094fffcc1",
   "metadata": {},
   "outputs": [],
   "source": [
    "test_data_reshaped = []\n",
    "\n",
    "for k in range(testdata.shape[1]):\n",
    "    dummy = testdata[:, k]\n",
    "    x = np.zeros((28, 28))\n",
    "    for i in range(28):\n",
    "        for j in range(28):\n",
    "            x[i, j] = dummy[(i * 28) + j]\n",
    "    \n",
    "    test_data_reshaped.append(x.T)\n",
    "\n",
    "test_data_reshaped = np.array(test_data_reshaped)"
   ]
  },
  {
   "cell_type": "code",
   "execution_count": 34,
   "id": "fed7ea33-a352-49d8-9812-2f71890bca75",
   "metadata": {},
   "outputs": [
    {
     "data": {
      "text/plain": [
       "(5000, 28, 28)"
      ]
     },
     "execution_count": 34,
     "metadata": {},
     "output_type": "execute_result"
    }
   ],
   "source": [
    "train_data_reshaped.shape"
   ]
  },
  {
   "cell_type": "code",
   "execution_count": 40,
   "id": "7a69344a-707d-4dde-b44d-47bc83c6a37e",
   "metadata": {},
   "outputs": [
    {
     "data": {
      "image/png": "[encoded data removed]",
      "text/plain": [
       "<Figure size 640x480 with 2 Axes>"
      ]
     },
     "metadata": {},
     "output_type": "display_data"
    },
    {
     "data": {
      "image/png": "[encoded data removed]",
      "text/plain": [
       "<Figure size 640x480 with 2 Axes>"
      ]
     },
     "metadata": {},
     "output_type": "display_data"
    }
   ],
   "source": [
    "plt.imshow(train_data_reshaped[0], cmap='gray')\n",
    "plt.colorbar()\n",
    "plt.gca().set_aspect('equal', adjustable='box')\n",
    "plt.title(trainlabels[0])\n",
    "plt.show()\n",
    "\n",
    "\n",
    "\n",
    "plt.imshow(test_data_reshaped[0], cmap='gray')\n",
    "plt.colorbar()\n",
    "plt.gca().set_aspect('equal', adjustable='box')\n",
    "plt.title(testlabels[0])\n",
    "plt.show()"
   ]
  },
  {
   "cell_type": "code",
   "execution_count": 58,
   "id": "d9146b18-0913-45f7-9b9a-ad1b78497ef6",
   "metadata": {},
   "outputs": [
    {
     "name": "stdout",
     "output_type": "stream",
     "text": [
      "Iteration 1, Errors: 140\n",
      "Iteration 101, Errors: 27\n",
      "Iteration 201, Errors: 27\n",
      "Iteration 301, Errors: 27\n",
      "Iteration 401, Errors: 27\n",
      "Iteration 501, Errors: 27\n",
      "Iteration 601, Errors: 27\n",
      "Iteration 701, Errors: 27\n",
      "Iteration 801, Errors: 27\n",
      "Iteration 901, Errors: 27\n",
      "Test Accuracy: 98.40%\n"
     ]
    }
   ],
   "source": [
    "class Perceptron:\n",
    "    def __init__(self, input_size):\n",
    "        self.weights = np.zeros(input_size)\n",
    "        self.bias = 0.0\n",
    "    \n",
    "    def predict(self, x):\n",
    "        return np.where(np.dot(x.flatten(), self.weights) + self.bias >= 0, 1, -1)\n",
    "    \n",
    "    def train(self, x, y, learning_rate=0.1, max_iterations=1000):\n",
    "        errors_last_100 = []\n",
    "        for iteration in range(max_iterations):\n",
    "            errors = 0\n",
    "            for i in range(len(x)):\n",
    "                prediction = self.predict(x[i])\n",
    "                if prediction != y[i]:\n",
    "                    errors += 1\n",
    "                    self.weights += learning_rate * y[i] * x[i].flatten()\n",
    "                    self.bias += learning_rate * y[i]\n",
    "            errors_last_100.append(errors)\n",
    "            if len(errors_last_100) > 100:\n",
    "                errors_last_100.pop(0)\n",
    "            if errors == 0:\n",
    "                print(f\"Converged at iteration {iteration + 1}\")\n",
    "                break\n",
    "            if iteration % 100 == 0:\n",
    "                print(f\"Iteration {iteration + 1}, Errors: {errors}\")\n",
    "            learning_rate /= (1 + iteration)\n",
    "        return errors_last_100\n",
    "\n",
    "x_train = train_data_reshaped\n",
    "y_train = np.where(trainlabels == 0, 1, -1)\n",
    "\n",
    "perceptron_0 = Perceptron(input_size=x_train[0].flatten().shape[0])\n",
    "errors_last_100 = perceptron_0.train(x_train, y_train)\n",
    "\n",
    "x_test = test_data_reshaped\n",
    "y_test = np.where(testlabels == 0, 1, -1)\n",
    "\n",
    "# Evaluate the perceptron on the test set\n",
    "test_errors = 0\n",
    "for i in range(len(x_test)):\n",
    "    prediction = perceptron_0.predict(x_test[i])\n",
    "    if prediction != y_test[i]:\n",
    "        test_errors += 1\n",
    "\n",
    "test_accuracy = 1 - (test_errors / len(x_test))\n",
    "print(f\"Test Accuracy: {test_accuracy * 100:.2f}%\")"
   ]
  },
  {
   "cell_type": "code",
   "execution_count": 59,
   "id": "9ea38324-bfe7-440e-b0d0-97868a491fe6",
   "metadata": {},
   "outputs": [
    {
     "data": {
      "image/png": "[encoded data removed]",
      "text/plain": [
       "<Figure size 640x480 with 2 Axes>"
      ]
     },
     "metadata": {},
     "output_type": "display_data"
    }
   ],
   "source": [
    "weights_image = perceptron_0.weights.reshape(28, 28)\n",
    "\n",
    "# Plot the weights image\n",
    "plt.imshow(weights_image, cmap='gray')\n",
    "plt.title(\"Weights Image\")\n",
    "plt.colorbar()\n",
    "plt.show()"
   ]
  },
  {
   "cell_type": "markdown",
   "id": "e992bf5e-f302-4184-93bc-d3f287a52015",
   "metadata": {},
   "source": [
    "The performance of the system seems to be improving as the number of errors decreases over iterations. Initially, there were 140 errors in the first iteration, but by the 100th iteration, the number of errors reduced to 27, and it remains constant thereafter. This indicates that the perceptron learned to distinguish between the digit '0' and other digits till 100 or 200th iteration, and the learning is saturated thereafter.\n",
    "\n",
    "Also, the above image of weights vectors, looks like a zero. Each pixel in the weights image represents the weight associated with the corresponding pixel in the input image. Brighter pixels indicate higher weights, meaning they have a stronger influence on the perceptron's decision. The image (or W) represents the importance of each pixel in determining whether the input image is a '0' or not. Areas where the weights are higher indicate pixels that have a stronger influence on the classification decision."
   ]
  },
  {
   "cell_type": "code",
   "execution_count": 54,
   "id": "72673be4-54aa-4516-b40f-2155a5fc16ea",
   "metadata": {},
   "outputs": [
    {
     "name": "stdout",
     "output_type": "stream",
     "text": [
      "Iteration 1, Errors: 462\n",
      "Iteration 101, Errors: 230\n",
      "Iteration 201, Errors: 230\n",
      "Iteration 301, Errors: 230\n",
      "Iteration 401, Errors: 230\n",
      "Iteration 501, Errors: 230\n",
      "Iteration 601, Errors: 230\n",
      "Iteration 701, Errors: 230\n",
      "Iteration 801, Errors: 230\n",
      "Iteration 901, Errors: 230\n",
      "Test Accuracy: 91.80%\n"
     ]
    }
   ],
   "source": [
    "x_train = train_data_reshaped\n",
    "y_train = np.where(trainlabels == 8, 1, -1)\n",
    "\n",
    "perceptron_8 = Perceptron(input_size=x_train[0].flatten().shape[0])\n",
    "errors_last_100 = perceptron_8.train(x_train, y_train)\n",
    "\n",
    "x_test = test_data_reshaped\n",
    "y_test = np.where(testlabels == 8, 1, -1)\n",
    "test_errors = 0\n",
    "for i in range(len(x_test)):\n",
    "    prediction = perceptron_8.predict(x_test[i])\n",
    "    if prediction != y_test[i]:\n",
    "        test_errors += 1\n",
    "\n",
    "test_accuracy = 1 - (test_errors / len(x_test))\n",
    "print(f\"Test Accuracy: {test_accuracy * 100:.2f}%\")"
   ]
  },
  {
   "cell_type": "markdown",
   "id": "59a1d7e0-78ff-4c62-8099-28aa32762878",
   "metadata": {},
   "source": [
    "The perceptron performed worse than compared to 0. The reason can be because our perceptron failed to identify distinguishing features that can separate 8 from the rest."
   ]
  },
  {
   "cell_type": "code",
   "execution_count": 63,
   "id": "e61ae8a4-d90e-4629-bcfa-d5daf10865a9",
   "metadata": {},
   "outputs": [
    {
     "data": {
      "image/png": "[encoded data removed]",
      "text/plain": [
       "<Figure size 640x480 with 2 Axes>"
      ]
     },
     "metadata": {},
     "output_type": "display_data"
    }
   ],
   "source": [
    "weights_image = perceptron_8.weights.reshape(28, 28)\n",
    "\n",
    "# Plot the weights image\n",
    "plt.imshow(weights_image, cmap='gray')\n",
    "plt.title(\"Weights Image\")\n",
    "plt.colorbar()\n",
    "plt.show()"
   ]
  },
  {
   "cell_type": "code",
   "execution_count": 55,
   "id": "37b21ecc-4526-465d-b435-04187acca0ca",
   "metadata": {},
   "outputs": [
    {
     "name": "stdout",
     "output_type": "stream",
     "text": [
      "Iteration 1, Errors: 127\n",
      "Iteration 101, Errors: 33\n",
      "Iteration 201, Errors: 33\n",
      "Iteration 301, Errors: 33\n",
      "Iteration 401, Errors: 33\n",
      "Iteration 501, Errors: 33\n",
      "Iteration 601, Errors: 33\n",
      "Iteration 701, Errors: 33\n",
      "Iteration 801, Errors: 33\n",
      "Iteration 901, Errors: 33\n",
      "Test Accuracy: 99.00%\n"
     ]
    }
   ],
   "source": [
    "x_train = train_data_reshaped\n",
    "y_train = np.where(trainlabels == 1, 1, -1)\n",
    "\n",
    "perceptron_1 = Perceptron(input_size=x_train[0].flatten().shape[0])\n",
    "errors_last_100 = perceptron_1.train(x_train, y_train)\n",
    "\n",
    "x_test = test_data_reshaped\n",
    "y_test = np.where(testlabels == 1, 1, -1)\n",
    "test_errors = 0\n",
    "for i in range(len(x_test)):\n",
    "    prediction = perceptron_1.predict(x_test[i])\n",
    "    if prediction != y_test[i]:\n",
    "        test_errors += 1\n",
    "\n",
    "test_accuracy = 1 - (test_errors / len(x_test))\n",
    "print(f\"Test Accuracy: {test_accuracy * 100:.2f}%\")"
   ]
  },
  {
   "cell_type": "markdown",
   "id": "d7e4c957-5448-4f38-ac60-b8263c3cfc1d",
   "metadata": {},
   "source": [
    "Performed better than that of detecting 0"
   ]
  },
  {
   "cell_type": "code",
   "execution_count": 64,
   "id": "9c71ea27-9230-4002-bc44-7066e563ab5b",
   "metadata": {},
   "outputs": [
    {
     "data": {
      "image/png": "[encoded data removed]",
      "text/plain": [
       "<Figure size 640x480 with 2 Axes>"
      ]
     },
     "metadata": {},
     "output_type": "display_data"
    }
   ],
   "source": [
    "weights_image = perceptron_1.weights.reshape(28, 28)\n",
    "\n",
    "# Plot the weights image\n",
    "plt.imshow(weights_image, cmap='gray')\n",
    "plt.title(\"Weights Image\")\n",
    "plt.colorbar()\n",
    "plt.show()"
   ]
  },
  {
   "cell_type": "code",
   "execution_count": 65,
   "id": "e7f4c538-03e8-4be1-857f-e5237f062cba",
   "metadata": {},
   "outputs": [
    {
     "name": "stdout",
     "output_type": "stream",
     "text": [
      "Iteration 1, Errors: 265\n",
      "Iteration 101, Errors: 100\n",
      "Iteration 201, Errors: 100\n",
      "Iteration 301, Errors: 100\n",
      "Iteration 401, Errors: 100\n",
      "Iteration 501, Errors: 100\n",
      "Iteration 601, Errors: 100\n",
      "Iteration 701, Errors: 100\n",
      "Iteration 801, Errors: 100\n",
      "Iteration 901, Errors: 100\n",
      "Test Accuracy: 96.80%\n"
     ]
    }
   ],
   "source": [
    "x_train = train_data_reshaped\n",
    "y_train = np.where(trainlabels == 2, 1, -1)\n",
    "\n",
    "perceptron_2 = Perceptron(input_size=x_train[0].flatten().shape[0])\n",
    "errors_last_100 = perceptron_2.train(x_train, y_train)\n",
    "\n",
    "x_test = test_data_reshaped\n",
    "y_test = np.where(testlabels == 2, 1, -1)\n",
    "\n",
    "test_errors = 0\n",
    "for i in range(len(x_test)):\n",
    "    prediction = perceptron_2.predict(x_test[i])\n",
    "    if prediction != y_test[i]:\n",
    "        test_errors += 1\n",
    "\n",
    "test_accuracy = 1 - (test_errors / len(x_test))\n",
    "print(f\"Test Accuracy: {test_accuracy * 100:.2f}%\")"
   ]
  },
  {
   "cell_type": "markdown",
   "id": "a464f135-0ebe-4573-87ac-10806a63e66c",
   "metadata": {},
   "source": [
    "Performed poorer than detecting 0"
   ]
  },
  {
   "cell_type": "code",
   "execution_count": 66,
   "id": "86c9d3d7-f986-4048-9115-9b8083f80a88",
   "metadata": {},
   "outputs": [
    {
     "data": {
      "image/png": "[encoded data removed]",
      "text/plain": [
       "<Figure size 640x480 with 2 Axes>"
      ]
     },
     "metadata": {},
     "output_type": "display_data"
    }
   ],
   "source": [
    "weights_image = perceptron_2.weights.reshape(28, 28)\n",
    "\n",
    "# Plot the weights image\n",
    "plt.imshow(weights_image, cmap='gray')\n",
    "plt.title(\"Weights Image\")\n",
    "plt.colorbar()\n",
    "plt.show()"
   ]
  },
  {
   "cell_type": "code",
   "execution_count": null,
   "id": "470aa81b-5dfd-48ac-a61a-37fa4f85de79",
   "metadata": {},
   "outputs": [],
   "source": []
  },
  {
   "cell_type": "code",
   "execution_count": null,
   "id": "a6387c07-db0b-4963-be8b-b9cf72f61dd5",
   "metadata": {},
   "outputs": [],
   "source": []
  },
  {
   "cell_type": "code",
   "execution_count": 89,
   "id": "187517bb-e08a-46ab-b653-0ca79aa8d720",
   "metadata": {},
   "outputs": [],
   "source": [
    "def to_one_hot(labels, num_classes):\n",
    "    num_samples = len(labels)\n",
    "    one_hot_labels = np.zeros((num_samples, num_classes))\n",
    "    for i in range(num_samples):\n",
    "        one_hot_labels[i, labels[i]] = 1\n",
    "    return one_hot_labels\n",
    "\n",
    "num_classes = 10\n",
    "y_train_one_hot = to_one_hot(trainlabels, num_classes)\n",
    "y_test_one_hot = to_one_hot(testlabels, num_classes)"
   ]
  },
  {
   "cell_type": "code",
   "execution_count": 107,
   "id": "1ae0d44f-733f-45d1-9f0f-9fdbf639c704",
   "metadata": {},
   "outputs": [
    {
     "name": "stdout",
     "output_type": "stream",
     "text": [
      "Training completed.\n",
      "Test Accuracy: 0.778\n"
     ]
    }
   ],
   "source": [
    "import numpy as np\n",
    "\n",
    "class TwoLayerPerceptron:\n",
    "    def __init__(self, input_size, hidden_size, output_size):\n",
    "        self.input_size = input_size\n",
    "        self.hidden_size = hidden_size\n",
    "        self.output_size = output_size\n",
    "        self.weights_input_hidden = np.random.randn(input_size, hidden_size)\n",
    "        self.bias_input_hidden = np.zeros(hidden_size)\n",
    "        self.weights_hidden_output = np.random.randn(hidden_size, output_size)\n",
    "        self.bias_hidden_output = np.zeros(output_size)\n",
    "\n",
    "    def _sigmoid(self, x):\n",
    "        return 1 / (1 + np.exp(-x))\n",
    "\n",
    "    def _sigmoid_derivative(self, x):\n",
    "        return x * (1 - x)\n",
    "\n",
    "    def train(self, x, y, learning_rate=0.01, epochs=100):\n",
    "        for epoch in range(epochs):\n",
    "            # Forward pass\n",
    "            hidden_input = np.dot(x, self.weights_input_hidden) + self.bias_input_hidden\n",
    "            hidden_output = self._sigmoid(hidden_input)\n",
    "            output = np.dot(hidden_output, self.weights_hidden_output) + self.bias_hidden_output\n",
    "            output = self._sigmoid(output)\n",
    "\n",
    "            # Backpropagation\n",
    "            grad_output = output - y\n",
    "            grad_hidden_output = np.dot(grad_output, self.weights_hidden_output.T) * self._sigmoid_derivative(hidden_output)\n",
    "            grad_weights_hidden_output = np.dot(hidden_output.T, grad_output)\n",
    "            grad_weights_input_hidden = np.dot(x.T, grad_hidden_output)\n",
    "\n",
    "            # Updating weights and biases\n",
    "            self.weights_input_hidden -= learning_rate * grad_weights_input_hidden\n",
    "            self.bias_input_hidden -= learning_rate * np.sum(grad_hidden_output, axis=0)\n",
    "            self.weights_hidden_output -= learning_rate * grad_weights_hidden_output\n",
    "            self.bias_hidden_output -= learning_rate * np.sum(grad_output, axis=0)\n",
    "        print(\"Training completed.\")\n",
    "        \n",
    "    def test(self, x_test, y_test):\n",
    "        hidden_input = np.dot(x_test, self.weights_input_hidden) + self.bias_input_hidden\n",
    "        hidden_output = self._sigmoid(hidden_input)\n",
    "        output = np.dot(hidden_output, self.weights_hidden_output) + self.bias_hidden_output\n",
    "        output = self._sigmoid(output)\n",
    "        \n",
    "        predicted_labels = np.argmax(output, axis=1)\n",
    "        true_labels = np.argmax(y_test, axis=1)\n",
    "        \n",
    "        accuracy = np.mean(predicted_labels == true_labels)\n",
    "        return predicted_labels, accuracy\n",
    "    \n",
    "        \n",
    "input_size = 784\n",
    "hidden_size = 25\n",
    "output_size = 10\n",
    "\n",
    "perceptron = TwoLayerPerceptron(input_size, hidden_size, output_size)\n",
    "perceptron.train(traindata.T, y_train_one_hot, learning_rate=0.001, epochs=500)\n",
    "\n",
    "predicted_labels, test_accuracy = perceptron.test(testdata.T, y_test_one_hot)\n",
    "print(\"Test Accuracy:\", test_accuracy)"
   ]
  },
  {
   "cell_type": "code",
   "execution_count": 108,
   "id": "57da48c1-dceb-4bfc-93f6-6fb8d2011d12",
   "metadata": {},
   "outputs": [
    {
     "name": "stdout",
     "output_type": "stream",
     "text": [
      "[7 2 1 0 4 1 4 9 6 9 0 2 9 0 1 3 9 7 6 4 9 6 6 5 4 0 7 4 0 1 3 1 3 0 7 2 7\n",
      " 1 2 1 1 7 9 2 3 5 1 2 9 4 6 8 5 8 2 0 4 1 4 4 7 8 9 8 9 4 2 4 3 0 7 0 2 7\n",
      " 1 7 3 7 9 7 4 6 2 7 8 4 7 5 6 1 3 6 9 3 1 4 1 9 6 9 2 0 5 4 9 9 2 1 9 4 3\n",
      " 1 3 9 9 4 4 4 4 9 5 4 7 6 4 9 0 5 8 5 6 6 5 7 8 1 0 1 6 4 6 7 3 1 9 1 8 2\n",
      " 0 6 9 9 5 3 1 5 6 0 3 4 4 6 5 4 4 5 4 5 1 9 4 7 3 0 2 1 1 8 1 8 1 8 5 0 6\n",
      " 4 2 3 0 1 1 1 0 9 0 5 1 6 9 2 3 6 1 1 1 3 9 5 2 9 4 5 9 1 9 0 3 8 7 3 7 2\n",
      " 2 7 1 2 8 9 1 7 3 3 6 9 7 9 2 2 4 1 5 8 8 9 1 0 0 2 4 2 9 1 9 5 7 7 2 2 2\n",
      " 0 8 5 7 7 1 1 6 1 2 0 5 0 1 4 9 4 1 8 2 1 2 9 7 5 9 2 6 4 1 5 8 2 9 2 0 9\n",
      " 0 0 2 3 6 7 1 6 9 0 2 9 4 3 3 0 0 3 1 4 6 5 3 5 1 1 9 3 0 9 2 0 7 1 1 2 1\n",
      " 5 3 3 2 7 5 6 2 4 1 3 8 1 0 5 1 9 1 5 0 6 1 8 5 1 7 9 4 6 3 2 5 0 4 3 6 3\n",
      " 7 2 0 8 8 5 9 1 1 4 0 7 3 7 6 1 6 2 1 9 2 8 6 1 4 5 2 5 4 4 2 5 3 4 8 4 5\n",
      " 0 3 1 7 7 3 7 9 7 1 9 2 1 4 2 9 2 0 6 9 1 4 8 1 8 9 8 9 8 8 3 7 6 0 0 3 8\n",
      " 8 0 6 4 8 5 5 3 2 2 9 1 2 5 8 0 5 6 6 6 7 8 8 6 9 8 8 9 6 1 8 4 1 2 8 5 1\n",
      " 9 7 5 4 0 9 9 9 1 0 5 2 3 7 6 9 9 8 6 3 9 2 2 1 8 1 5 6 5 7 4 2 2 2 8 2 6\n",
      " 5 9 8 9 9 1 5 0 3 2 8 1 9 3 4 4 6 4 2 1 8 2 5 4 6 9 4 0 0 2 5 2 9 9 6 2 7\n",
      " 4 4 7 9 6 9 0 9 8 0 9 6 0 6 5 5 9 9 3 3 9 3 8 7 7 8 0 2 8 1 7 0 6 5 9 3 3\n",
      " 0 9 6 3 8 0 9 9 6 8 6 8 5 7 2 4 0 2 2 0 2 1 3 1 9 7 5 1 0 8 4 6 2 0 7 4 9\n",
      " 2 9 8 2 2 4 2 7 3 7 9 1 6 0 2 0 6 2 1 3 7 6 7 1 2 5 8 0 3 7 7 4 6 9 1 5 6\n",
      " 7 1 4 3 4 9 1 4 5 1 7 2 9 7 6 9 1 3 1 8 3 3 6 7 2 9 5 8 8 1 1 4 9 3 1 0 7\n",
      " 7 0 7 9 9 9 8 5 5 4 0 8 3 1 6 8 4 2 0 4 8 6 1 7 3 8 5 0 2 6 9 5 1 4 0 2 5\n",
      " 9 8 0 6 2 1 7 3 9 1 0 5 9 5 1 1 7 4 4 9 9 8 4 0 2 4 5 1 1 6 4 7 1 9 9 2 4\n",
      " 1 5 5 3 6 3 1 4 5 6 8 9 4 1 9 3 6 0 6 2 5 1 2 5 5 4 4 0 8 8 3 3 1 7 3 5 4\n",
      " 6 3 2 0 1 3 6 0 7 8 1 7 1 4 2 6 2 1 9 9 2 1 1 2 4 5 1 7 7 4 7 0 7 3 1 3 1\n",
      " 0 7 7 0 3 7 3 2 9 6 6 9 2 8 5 5 2 2 5 6 0 8 2 9 2 8 6 8 8 7 9 9 3 0 6 6 3\n",
      " 2 1 5 2 2 9 8 0 6 5 1 8 3 4 9 6 0 2 9 1 4 7 4 7 3 9 8 8 4 7 1 2 1 2 2 3 8\n",
      " 3 6 3 9 1 9 9 0 3 5 7 8 6 5 0 6 7 6 2 8 2 7 9 1 1 4 4 6 4 9 5 2 3 3 8 9 8\n",
      " 9 1 1 0 9 1 9 9 5 4 0 2 2 2 3 1 5 1 2 0 3 8 1 2 6 7 1 6 2 8 9 0 1 2 2 0 9\n",
      " 9]\n"
     ]
    }
   ],
   "source": [
    "print(predicted_labels)"
   ]
  },
  {
   "cell_type": "code",
   "execution_count": 109,
   "id": "0dd8cdd2-de6f-4d6f-b22f-bb7fce10784a",
   "metadata": {},
   "outputs": [
    {
     "name": "stdout",
     "output_type": "stream",
     "text": [
      "[7 2 1 0 4 1 4 9 5 9 0 6 9 0 1 5 9 7 3 4 9 6 6 5 4 0 7 4 0 1 3 1 3 4 7 2 7\n",
      " 1 2 1 1 7 4 2 3 5 1 2 4 4 6 3 5 5 6 0 4 1 9 5 7 8 9 3 7 4 6 4 3 0 7 0 2 9\n",
      " 1 7 3 2 9 7 7 6 2 7 8 4 7 3 6 1 3 6 9 3 1 4 1 7 6 9 6 0 5 4 9 9 2 1 9 4 8\n",
      " 7 3 9 7 4 4 4 9 2 5 4 7 6 7 9 0 5 8 5 6 6 5 7 8 1 0 1 6 4 6 7 3 1 7 1 8 2\n",
      " 0 2 9 9 5 5 1 5 6 0 3 4 4 6 5 4 6 5 4 5 1 4 4 7 2 3 2 7 1 8 1 8 1 8 5 0 8\n",
      " 9 2 5 0 1 1 1 0 9 0 3 1 6 4 2 3 6 1 1 1 3 9 5 2 9 4 5 9 3 9 0 3 6 5 5 7 2\n",
      " 2 7 1 2 8 4 1 7 3 3 8 8 7 9 2 2 4 1 5 9 8 7 2 3 0 4 4 2 4 1 9 5 7 7 2 8 2\n",
      " 6 8 5 7 7 9 1 8 1 8 0 3 0 1 9 9 4 1 8 2 1 2 9 7 5 9 2 6 4 1 5 8 2 9 2 0 4\n",
      " 0 0 2 8 4 7 1 2 4 0 2 7 4 3 3 0 0 3 1 9 6 5 2 5 9 2 9 3 0 4 2 0 7 1 1 2 1\n",
      " 5 3 3 9 7 8 6 5 6 1 3 8 1 0 5 1 3 1 5 5 6 1 8 5 1 7 9 4 6 2 2 5 0 6 5 6 3\n",
      " 7 2 0 8 8 5 4 1 1 4 0 3 3 7 6 1 6 2 1 9 2 8 6 1 9 5 2 5 4 4 2 8 3 8 2 4 5\n",
      " 0 3 1 7 7 5 7 9 7 1 9 2 1 4 2 9 2 0 4 9 1 4 8 1 8 4 5 9 8 8 3 7 6 0 0 3 0\n",
      " 2 6 6 4 9 3 3 3 2 3 9 1 2 6 8 0 5 6 6 6 3 8 8 2 7 5 8 9 6 1 8 4 1 2 5 9 1\n",
      " 9 7 5 4 0 8 9 9 1 0 5 2 3 7 8 9 4 0 6 3 9 5 2 1 3 1 3 6 5 7 4 2 2 6 3 2 6\n",
      " 5 4 8 9 7 1 3 0 3 8 3 1 9 3 4 4 6 4 2 1 8 2 5 4 8 8 4 0 0 2 3 2 7 7 0 8 7\n",
      " 4 4 7 9 6 9 0 9 8 0 4 6 0 6 3 5 4 8 3 3 9 3 3 3 7 8 0 8 2 1 7 0 6 5 4 3 8\n",
      " 0 9 6 3 8 0 9 9 6 8 6 8 5 7 8 6 0 2 4 0 2 2 3 1 9 7 5 1 0 8 4 6 2 6 7 9 3\n",
      " 2 9 8 2 2 9 2 7 3 5 9 1 8 0 2 0 5 2 1 3 7 6 7 1 2 5 8 0 3 7 2 4 0 9 1 8 6\n",
      " 7 7 4 3 4 9 1 9 5 1 7 3 9 7 6 9 1 3 7 8 3 3 6 7 2 8 5 8 5 1 1 4 4 3 1 0 7\n",
      " 7 0 7 9 4 4 8 5 5 4 0 8 2 1 0 8 4 5 0 4 0 6 1 7 3 2 6 7 2 6 9 3 1 4 6 2 5\n",
      " 4 2 0 6 2 1 7 3 4 1 0 5 4 3 1 1 7 4 9 9 4 8 4 0 2 4 5 1 1 6 4 7 1 9 4 2 4\n",
      " 1 5 5 3 8 3 1 4 5 6 8 9 4 1 5 3 8 0 3 2 5 1 2 8 3 4 4 0 8 8 3 3 1 7 3 5 9\n",
      " 6 3 2 6 1 3 6 0 7 2 1 7 1 4 2 4 2 1 7 9 6 1 1 2 4 8 1 7 7 4 8 0 7 3 1 3 1\n",
      " 0 7 7 0 3 5 5 2 7 6 6 9 2 8 3 5 2 2 5 6 0 8 2 9 2 8 8 8 8 7 4 9 3 0 6 6 3\n",
      " 2 1 3 2 2 9 3 0 0 5 7 8 1 4 4 6 0 2 9 1 4 7 4 7 3 9 8 8 4 7 1 2 1 2 2 3 2\n",
      " 3 2 3 9 1 7 4 0 3 5 5 8 6 3 2 6 7 6 6 3 2 7 8 1 1 7 5 6 4 9 5 1 3 3 4 7 8\n",
      " 9 1 1 6 9 1 4 4 5 4 0 6 2 2 3 1 5 1 2 0 3 8 1 2 6 7 1 6 2 3 9 0 1 2 2 0 8\n",
      " 9]\n"
     ]
    }
   ],
   "source": [
    "print(testlabels)"
   ]
  },
  {
   "cell_type": "code",
   "execution_count": null,
   "id": "1c28e894-6820-4e3e-a0e8-29bc4470f5ea",
   "metadata": {},
   "outputs": [],
   "source": []
  }
 ],
 "metadata": {
  "kernelspec": {
   "display_name": "Python 3 (ipykernel)",
   "language": "python",
   "name": "python3"
  },
  "language_info": {
   "codemirror_mode": {
    "name": "ipython",
    "version": 3
   },
   "file_extension": ".py",
   "mimetype": "text/x-python",
   "name": "python",
   "nbconvert_exporter": "python",
   "pygments_lexer": "ipython3",
   "version": "3.11.7"
  }
 },
 "nbformat": 4,
 "nbformat_minor": 5
}
